{
 "cells": [
  {
   "cell_type": "code",
   "execution_count": 1,
   "metadata": {},
   "outputs": [],
   "source": [
    "import pandas as pd\n",
    "import numpy as np\n",
    "import matplotlib.pyplot as plt\n",
    "import seaborn as sns\n",
    "%matplotlib inline"
   ]
  },
  {
   "cell_type": "code",
   "execution_count": 2,
   "metadata": {},
   "outputs": [],
   "source": [
    "df=pd.read_csv('C:\\\\Users\\\\ADMIN\\\\Desktop\\\\JTD_invoice_customer_join.csv')"
   ]
  },
  {
   "cell_type": "code",
   "execution_count": 3,
   "metadata": {},
   "outputs": [
    {
     "data": {
      "text/html": [
       "<div>\n",
       "<style scoped>\n",
       "    .dataframe tbody tr th:only-of-type {\n",
       "        vertical-align: middle;\n",
       "    }\n",
       "\n",
       "    .dataframe tbody tr th {\n",
       "        vertical-align: top;\n",
       "    }\n",
       "\n",
       "    .dataframe thead th {\n",
       "        text-align: right;\n",
       "    }\n",
       "</style>\n",
       "<table border=\"1\" class=\"dataframe\">\n",
       "  <thead>\n",
       "    <tr style=\"text-align: right;\">\n",
       "      <th></th>\n",
       "      <th>Unnamed: 0</th>\n",
       "      <th>Unnamed: 0_x</th>\n",
       "      <th>DBM Order</th>\n",
       "      <th>Order Item</th>\n",
       "      <th>Material</th>\n",
       "      <th>Labor Value Number</th>\n",
       "      <th>Description</th>\n",
       "      <th>Item Category</th>\n",
       "      <th>Order Quantity</th>\n",
       "      <th>Target quantity UoM</th>\n",
       "      <th>...</th>\n",
       "      <th>Print Status</th>\n",
       "      <th>Recovrbl Exp</th>\n",
       "      <th>Regn No</th>\n",
       "      <th>Technician Name</th>\n",
       "      <th>Total Amt Wtd Tax.</th>\n",
       "      <th>User ID</th>\n",
       "      <th>Business Partner</th>\n",
       "      <th>Partner Type</th>\n",
       "      <th>Data Origin</th>\n",
       "      <th>Title</th>\n",
       "    </tr>\n",
       "  </thead>\n",
       "  <tbody>\n",
       "    <tr>\n",
       "      <th>0</th>\n",
       "      <td>0</td>\n",
       "      <td>0</td>\n",
       "      <td>22385</td>\n",
       "      <td>180</td>\n",
       "      <td>OSLCC_SRV31</td>\n",
       "      <td>Unknown</td>\n",
       "      <td>MACHINING RR.SUSPENSION CHARGE  (MAJOR)</td>\n",
       "      <td>P010</td>\n",
       "      <td>1.2</td>\n",
       "      <td>MIN</td>\n",
       "      <td>...</td>\n",
       "      <td>NO</td>\n",
       "      <td>0.0</td>\n",
       "      <td>AP28AY8040</td>\n",
       "      <td>laxminarayana</td>\n",
       "      <td>1869.87</td>\n",
       "      <td>BC04SA1</td>\n",
       "      <td>9969</td>\n",
       "      <td>6.0</td>\n",
       "      <td>NoCustomer</td>\n",
       "      <td>6.0</td>\n",
       "    </tr>\n",
       "    <tr>\n",
       "      <th>1</th>\n",
       "      <td>1</td>\n",
       "      <td>1</td>\n",
       "      <td>23910</td>\n",
       "      <td>10</td>\n",
       "      <td>1DM279018170117</td>\n",
       "      <td>Unknown</td>\n",
       "      <td>ASSY.OIL COOLER (6-PLATE) (VOR</td>\n",
       "      <td>P002</td>\n",
       "      <td>1.0</td>\n",
       "      <td>EA</td>\n",
       "      <td>...</td>\n",
       "      <td>NO</td>\n",
       "      <td>0.0</td>\n",
       "      <td>MH12CD3403</td>\n",
       "      <td>SAJID</td>\n",
       "      <td>52351.48</td>\n",
       "      <td>BC02SA1</td>\n",
       "      <td>E26912</td>\n",
       "      <td>1.0</td>\n",
       "      <td>Z001</td>\n",
       "      <td>5.0</td>\n",
       "    </tr>\n",
       "    <tr>\n",
       "      <th>2</th>\n",
       "      <td>2</td>\n",
       "      <td>2</td>\n",
       "      <td>23910</td>\n",
       "      <td>40</td>\n",
       "      <td>1IS150203BE01</td>\n",
       "      <td>Unknown</td>\n",
       "      <td>FRONT WHEEL BEARING/ LUBRICATE</td>\n",
       "      <td>P002</td>\n",
       "      <td>1.0</td>\n",
       "      <td>EA</td>\n",
       "      <td>...</td>\n",
       "      <td>NO</td>\n",
       "      <td>0.0</td>\n",
       "      <td>MH12CD3403</td>\n",
       "      <td>SAJID</td>\n",
       "      <td>52351.48</td>\n",
       "      <td>BC02SA1</td>\n",
       "      <td>E26912</td>\n",
       "      <td>1.0</td>\n",
       "      <td>Z001</td>\n",
       "      <td>5.0</td>\n",
       "    </tr>\n",
       "    <tr>\n",
       "      <th>3</th>\n",
       "      <td>3</td>\n",
       "      <td>3</td>\n",
       "      <td>23910</td>\n",
       "      <td>60</td>\n",
       "      <td>1DM279001990173</td>\n",
       "      <td>Unknown</td>\n",
       "      <td>ASSY.CYL.HEAD W /O INJ.(NA W /O</td>\n",
       "      <td>P002</td>\n",
       "      <td>1.0</td>\n",
       "      <td>EA</td>\n",
       "      <td>...</td>\n",
       "      <td>NO</td>\n",
       "      <td>0.0</td>\n",
       "      <td>MH12CD3403</td>\n",
       "      <td>SAJID</td>\n",
       "      <td>52351.48</td>\n",
       "      <td>BC02SA1</td>\n",
       "      <td>E26912</td>\n",
       "      <td>1.0</td>\n",
       "      <td>Z001</td>\n",
       "      <td>5.0</td>\n",
       "    </tr>\n",
       "    <tr>\n",
       "      <th>4</th>\n",
       "      <td>4</td>\n",
       "      <td>4</td>\n",
       "      <td>23910</td>\n",
       "      <td>70</td>\n",
       "      <td>1DM88552790S001SA</td>\n",
       "      <td>Unknown</td>\n",
       "      <td>Engine Overhaul Kit -Indica Di</td>\n",
       "      <td>P002</td>\n",
       "      <td>1.0</td>\n",
       "      <td>EA</td>\n",
       "      <td>...</td>\n",
       "      <td>NO</td>\n",
       "      <td>0.0</td>\n",
       "      <td>MH12CD3403</td>\n",
       "      <td>SAJID</td>\n",
       "      <td>52351.48</td>\n",
       "      <td>BC02SA1</td>\n",
       "      <td>E26912</td>\n",
       "      <td>1.0</td>\n",
       "      <td>Z001</td>\n",
       "      <td>5.0</td>\n",
       "    </tr>\n",
       "  </tbody>\n",
       "</table>\n",
       "<p>5 rows × 49 columns</p>\n",
       "</div>"
      ],
      "text/plain": [
       "   Unnamed: 0  Unnamed: 0_x  DBM Order  Order Item           Material  \\\n",
       "0           0             0      22385         180        OSLCC_SRV31   \n",
       "1           1             1      23910          10    1DM279018170117   \n",
       "2           2             2      23910          40      1IS150203BE01   \n",
       "3           3             3      23910          60    1DM279001990173   \n",
       "4           4             4      23910          70  1DM88552790S001SA   \n",
       "\n",
       "  Labor Value Number                              Description Item Category  \\\n",
       "0            Unknown  MACHINING RR.SUSPENSION CHARGE  (MAJOR)          P010   \n",
       "1            Unknown           ASSY.OIL COOLER (6-PLATE) (VOR          P002   \n",
       "2            Unknown           FRONT WHEEL BEARING/ LUBRICATE          P002   \n",
       "3            Unknown          ASSY.CYL.HEAD W /O INJ.(NA W /O          P002   \n",
       "4            Unknown           Engine Overhaul Kit -Indica Di          P002   \n",
       "\n",
       "   Order Quantity Target quantity UoM  ...  Print Status  Recovrbl Exp  \\\n",
       "0             1.2                 MIN  ...            NO           0.0   \n",
       "1             1.0                  EA  ...            NO           0.0   \n",
       "2             1.0                  EA  ...            NO           0.0   \n",
       "3             1.0                  EA  ...            NO           0.0   \n",
       "4             1.0                  EA  ...            NO           0.0   \n",
       "\n",
       "      Regn No  Technician Name  Total Amt Wtd Tax.  User ID Business Partner  \\\n",
       "0  AP28AY8040    laxminarayana             1869.87  BC04SA1             9969   \n",
       "1  MH12CD3403            SAJID            52351.48  BC02SA1           E26912   \n",
       "2  MH12CD3403            SAJID            52351.48  BC02SA1           E26912   \n",
       "3  MH12CD3403            SAJID            52351.48  BC02SA1           E26912   \n",
       "4  MH12CD3403            SAJID            52351.48  BC02SA1           E26912   \n",
       "\n",
       "  Partner Type Data Origin Title  \n",
       "0          6.0  NoCustomer   6.0  \n",
       "1          1.0        Z001   5.0  \n",
       "2          1.0        Z001   5.0  \n",
       "3          1.0        Z001   5.0  \n",
       "4          1.0        Z001   5.0  \n",
       "\n",
       "[5 rows x 49 columns]"
      ]
     },
     "execution_count": 3,
     "metadata": {},
     "output_type": "execute_result"
    }
   ],
   "source": [
    "df.head()"
   ]
  },
  {
   "cell_type": "code",
   "execution_count": 4,
   "metadata": {},
   "outputs": [
    {
     "data": {
      "text/plain": [
       "(3058847, 49)"
      ]
     },
     "execution_count": 4,
     "metadata": {},
     "output_type": "execute_result"
    }
   ],
   "source": [
    "df.shape"
   ]
  },
  {
   "cell_type": "code",
   "execution_count": 5,
   "metadata": {},
   "outputs": [
    {
     "data": {
      "text/plain": [
       "Index(['Unnamed: 0', 'Unnamed: 0_x', 'DBM Order', 'Order Item', 'Material',\n",
       "       'Labor Value Number', 'Description', 'Item Category', 'Order Quantity',\n",
       "       'Target quantity UoM', 'Net value', 'Unnamed: 0_y',\n",
       "       'Amt Rcvd From Custom', 'Amt Rcvd From Ins Co', 'Area / Locality',\n",
       "       'CITY', 'Cash /Cashless Type', 'Cust Type', 'Customer No.', 'District',\n",
       "       'Gate Pass Date', 'Gate Pass Time', 'Invoice Date', 'Invoice No',\n",
       "       'Invoice Time', 'Job Card No', 'JobCard Date', 'JobCard Time',\n",
       "       'KMs Reading', 'Labour Total', 'Make', 'Misc Total', 'Model',\n",
       "       'OSL Total', 'Order Type', 'Parts Total', 'Pin code', 'Plant',\n",
       "       'Plant Name1', 'Print Status', 'Recovrbl Exp', 'Regn No',\n",
       "       'Technician Name', 'Total Amt Wtd Tax.', 'User ID', 'Business Partner',\n",
       "       'Partner Type', 'Data Origin', 'Title'],\n",
       "      dtype='object')"
      ]
     },
     "execution_count": 5,
     "metadata": {},
     "output_type": "execute_result"
    }
   ],
   "source": [
    "df.columns"
   ]
  },
  {
   "cell_type": "code",
   "execution_count": 6,
   "metadata": {},
   "outputs": [
    {
     "data": {
      "text/plain": [
       "Unnamed: 0              0\n",
       "Unnamed: 0_x            0\n",
       "DBM Order               0\n",
       "Order Item              0\n",
       "Material                0\n",
       "Labor Value Number      0\n",
       "Description             0\n",
       "Item Category           0\n",
       "Order Quantity          0\n",
       "Target quantity UoM     0\n",
       "Net value               0\n",
       "Unnamed: 0_y            0\n",
       "Amt Rcvd From Custom    0\n",
       "Amt Rcvd From Ins Co    0\n",
       "Area / Locality         0\n",
       "CITY                    0\n",
       "Cash /Cashless Type     0\n",
       "Cust Type               0\n",
       "Customer No.            0\n",
       "District                0\n",
       "Gate Pass Date          0\n",
       "Gate Pass Time          0\n",
       "Invoice Date            0\n",
       "Invoice No              0\n",
       "Invoice Time            0\n",
       "Job Card No             0\n",
       "JobCard Date            0\n",
       "JobCard Time            0\n",
       "KMs Reading             0\n",
       "Labour Total            0\n",
       "Make                    0\n",
       "Misc Total              0\n",
       "Model                   0\n",
       "OSL Total               0\n",
       "Order Type              0\n",
       "Parts Total             0\n",
       "Pin code                0\n",
       "Plant                   0\n",
       "Plant Name1             0\n",
       "Print Status            0\n",
       "Recovrbl Exp            0\n",
       "Regn No                 0\n",
       "Technician Name         0\n",
       "Total Amt Wtd Tax.      0\n",
       "User ID                 0\n",
       "Business Partner        0\n",
       "Partner Type            0\n",
       "Data Origin             0\n",
       "Title                   0\n",
       "dtype: int64"
      ]
     },
     "execution_count": 6,
     "metadata": {},
     "output_type": "execute_result"
    }
   ],
   "source": [
    "df.isnull().sum()"
   ]
  },
  {
   "cell_type": "code",
   "execution_count": 7,
   "metadata": {},
   "outputs": [
    {
     "name": "stdout",
     "output_type": "stream",
     "text": [
      "<class 'pandas.core.frame.DataFrame'>\n",
      "RangeIndex: 3058847 entries, 0 to 3058846\n",
      "Data columns (total 49 columns):\n",
      "Unnamed: 0              int64\n",
      "Unnamed: 0_x            int64\n",
      "DBM Order               int64\n",
      "Order Item              int64\n",
      "Material                object\n",
      "Labor Value Number      object\n",
      "Description             object\n",
      "Item Category           object\n",
      "Order Quantity          float64\n",
      "Target quantity UoM     object\n",
      "Net value               float64\n",
      "Unnamed: 0_y            int64\n",
      "Amt Rcvd From Custom    float64\n",
      "Amt Rcvd From Ins Co    float64\n",
      "Area / Locality         float64\n",
      "CITY                    object\n",
      "Cash /Cashless Type     object\n",
      "Cust Type               object\n",
      "Customer No.            object\n",
      "District                object\n",
      "Gate Pass Date          object\n",
      "Gate Pass Time          object\n",
      "Invoice Date            object\n",
      "Invoice No              int64\n",
      "Invoice Time            object\n",
      "Job Card No             int64\n",
      "JobCard Date            object\n",
      "JobCard Time            object\n",
      "KMs Reading             int64\n",
      "Labour Total            float64\n",
      "Make                    object\n",
      "Misc Total              float64\n",
      "Model                   object\n",
      "OSL Total               float64\n",
      "Order Type              object\n",
      "Parts Total             float64\n",
      "Pin code                int64\n",
      "Plant                   object\n",
      "Plant Name1             object\n",
      "Print Status            object\n",
      "Recovrbl Exp            float64\n",
      "Regn No                 object\n",
      "Technician Name         object\n",
      "Total Amt Wtd Tax.      float64\n",
      "User ID                 object\n",
      "Business Partner        object\n",
      "Partner Type            float64\n",
      "Data Origin             object\n",
      "Title                   float64\n",
      "dtypes: float64(13), int64(9), object(27)\n",
      "memory usage: 1.1+ GB\n"
     ]
    }
   ],
   "source": [
    "df.info()"
   ]
  },
  {
   "cell_type": "code",
   "execution_count": 8,
   "metadata": {},
   "outputs": [
    {
     "data": {
      "text/html": [
       "<div>\n",
       "<style scoped>\n",
       "    .dataframe tbody tr th:only-of-type {\n",
       "        vertical-align: middle;\n",
       "    }\n",
       "\n",
       "    .dataframe tbody tr th {\n",
       "        vertical-align: top;\n",
       "    }\n",
       "\n",
       "    .dataframe thead th {\n",
       "        text-align: right;\n",
       "    }\n",
       "</style>\n",
       "<table border=\"1\" class=\"dataframe\">\n",
       "  <thead>\n",
       "    <tr style=\"text-align: right;\">\n",
       "      <th></th>\n",
       "      <th>Unnamed: 0</th>\n",
       "      <th>Unnamed: 0_x</th>\n",
       "      <th>DBM Order</th>\n",
       "      <th>Order Item</th>\n",
       "      <th>Order Quantity</th>\n",
       "      <th>Net value</th>\n",
       "      <th>Unnamed: 0_y</th>\n",
       "      <th>Amt Rcvd From Custom</th>\n",
       "      <th>Amt Rcvd From Ins Co</th>\n",
       "      <th>Area / Locality</th>\n",
       "      <th>...</th>\n",
       "      <th>KMs Reading</th>\n",
       "      <th>Labour Total</th>\n",
       "      <th>Misc Total</th>\n",
       "      <th>OSL Total</th>\n",
       "      <th>Parts Total</th>\n",
       "      <th>Pin code</th>\n",
       "      <th>Recovrbl Exp</th>\n",
       "      <th>Total Amt Wtd Tax.</th>\n",
       "      <th>Partner Type</th>\n",
       "      <th>Title</th>\n",
       "    </tr>\n",
       "  </thead>\n",
       "  <tbody>\n",
       "    <tr>\n",
       "      <th>count</th>\n",
       "      <td>3.058847e+06</td>\n",
       "      <td>3.058847e+06</td>\n",
       "      <td>3.058847e+06</td>\n",
       "      <td>3.058847e+06</td>\n",
       "      <td>3.058847e+06</td>\n",
       "      <td>3.058847e+06</td>\n",
       "      <td>3.058847e+06</td>\n",
       "      <td>3058847.0</td>\n",
       "      <td>3058847.0</td>\n",
       "      <td>3058847.0</td>\n",
       "      <td>...</td>\n",
       "      <td>3.058847e+06</td>\n",
       "      <td>3.058847e+06</td>\n",
       "      <td>3.058847e+06</td>\n",
       "      <td>3.058847e+06</td>\n",
       "      <td>3.058847e+06</td>\n",
       "      <td>3.058847e+06</td>\n",
       "      <td>3.058847e+06</td>\n",
       "      <td>3.058847e+06</td>\n",
       "      <td>3.058847e+06</td>\n",
       "      <td>3.058847e+06</td>\n",
       "    </tr>\n",
       "    <tr>\n",
       "      <th>mean</th>\n",
       "      <td>1.529423e+06</td>\n",
       "      <td>2.482338e+06</td>\n",
       "      <td>2.308076e+05</td>\n",
       "      <td>9.961490e+01</td>\n",
       "      <td>4.290756e+01</td>\n",
       "      <td>7.129231e+02</td>\n",
       "      <td>5.591209e+05</td>\n",
       "      <td>0.0</td>\n",
       "      <td>0.0</td>\n",
       "      <td>0.0</td>\n",
       "      <td>...</td>\n",
       "      <td>8.205178e+04</td>\n",
       "      <td>3.275665e+03</td>\n",
       "      <td>3.055610e+02</td>\n",
       "      <td>1.361022e+03</td>\n",
       "      <td>8.948120e+03</td>\n",
       "      <td>4.395251e+05</td>\n",
       "      <td>4.237190e+00</td>\n",
       "      <td>1.389037e+04</td>\n",
       "      <td>5.755503e+00</td>\n",
       "      <td>5.929674e+00</td>\n",
       "    </tr>\n",
       "    <tr>\n",
       "      <th>std</th>\n",
       "      <td>8.830132e+05</td>\n",
       "      <td>1.609112e+06</td>\n",
       "      <td>1.417977e+05</td>\n",
       "      <td>1.354036e+02</td>\n",
       "      <td>3.227786e+02</td>\n",
       "      <td>1.933881e+03</td>\n",
       "      <td>3.115537e+05</td>\n",
       "      <td>0.0</td>\n",
       "      <td>0.0</td>\n",
       "      <td>0.0</td>\n",
       "      <td>...</td>\n",
       "      <td>1.160389e+05</td>\n",
       "      <td>7.518786e+03</td>\n",
       "      <td>2.079974e+03</td>\n",
       "      <td>5.316826e+03</td>\n",
       "      <td>2.246654e+04</td>\n",
       "      <td>1.641620e+05</td>\n",
       "      <td>1.183262e+02</td>\n",
       "      <td>2.954903e+04</td>\n",
       "      <td>1.067458e+00</td>\n",
       "      <td>3.886897e-01</td>\n",
       "    </tr>\n",
       "    <tr>\n",
       "      <th>min</th>\n",
       "      <td>0.000000e+00</td>\n",
       "      <td>0.000000e+00</td>\n",
       "      <td>4.000000e+00</td>\n",
       "      <td>1.000000e+01</td>\n",
       "      <td>1.000000e-03</td>\n",
       "      <td>-5.550100e+02</td>\n",
       "      <td>0.000000e+00</td>\n",
       "      <td>0.0</td>\n",
       "      <td>0.0</td>\n",
       "      <td>0.0</td>\n",
       "      <td>...</td>\n",
       "      <td>1.000000e+00</td>\n",
       "      <td>-1.370000e+02</td>\n",
       "      <td>-1.000000e-02</td>\n",
       "      <td>0.000000e+00</td>\n",
       "      <td>-1.000000e-02</td>\n",
       "      <td>0.000000e+00</td>\n",
       "      <td>0.000000e+00</td>\n",
       "      <td>-1.370000e+02</td>\n",
       "      <td>1.000000e+00</td>\n",
       "      <td>1.000000e+00</td>\n",
       "    </tr>\n",
       "    <tr>\n",
       "      <th>25%</th>\n",
       "      <td>7.647115e+05</td>\n",
       "      <td>1.419264e+06</td>\n",
       "      <td>1.116800e+05</td>\n",
       "      <td>3.000000e+01</td>\n",
       "      <td>1.000000e+00</td>\n",
       "      <td>8.297000e+01</td>\n",
       "      <td>1.186040e+05</td>\n",
       "      <td>0.0</td>\n",
       "      <td>0.0</td>\n",
       "      <td>0.0</td>\n",
       "      <td>...</td>\n",
       "      <td>3.943800e+04</td>\n",
       "      <td>5.552300e+02</td>\n",
       "      <td>0.000000e+00</td>\n",
       "      <td>0.000000e+00</td>\n",
       "      <td>9.762500e+02</td>\n",
       "      <td>3.961950e+05</td>\n",
       "      <td>0.000000e+00</td>\n",
       "      <td>2.202550e+03</td>\n",
       "      <td>6.000000e+00</td>\n",
       "      <td>6.000000e+00</td>\n",
       "    </tr>\n",
       "    <tr>\n",
       "      <th>50%</th>\n",
       "      <td>1.529423e+06</td>\n",
       "      <td>2.175085e+06</td>\n",
       "      <td>2.193500e+05</td>\n",
       "      <td>6.000000e+01</td>\n",
       "      <td>1.000000e+00</td>\n",
       "      <td>2.700000e+02</td>\n",
       "      <td>6.649550e+05</td>\n",
       "      <td>0.0</td>\n",
       "      <td>0.0</td>\n",
       "      <td>0.0</td>\n",
       "      <td>...</td>\n",
       "      <td>6.494600e+04</td>\n",
       "      <td>1.366940e+03</td>\n",
       "      <td>0.000000e+00</td>\n",
       "      <td>0.000000e+00</td>\n",
       "      <td>2.924890e+03</td>\n",
       "      <td>4.231010e+05</td>\n",
       "      <td>0.000000e+00</td>\n",
       "      <td>5.305730e+03</td>\n",
       "      <td>6.000000e+00</td>\n",
       "      <td>6.000000e+00</td>\n",
       "    </tr>\n",
       "    <tr>\n",
       "      <th>75%</th>\n",
       "      <td>2.294134e+06</td>\n",
       "      <td>4.269998e+06</td>\n",
       "      <td>3.492920e+05</td>\n",
       "      <td>1.200000e+02</td>\n",
       "      <td>4.000000e+00</td>\n",
       "      <td>6.989800e+02</td>\n",
       "      <td>7.831020e+05</td>\n",
       "      <td>0.0</td>\n",
       "      <td>0.0</td>\n",
       "      <td>0.0</td>\n",
       "      <td>...</td>\n",
       "      <td>9.850000e+04</td>\n",
       "      <td>3.219170e+03</td>\n",
       "      <td>1.000100e+02</td>\n",
       "      <td>4.000000e+02</td>\n",
       "      <td>7.665010e+03</td>\n",
       "      <td>6.000060e+05</td>\n",
       "      <td>0.000000e+00</td>\n",
       "      <td>1.280922e+04</td>\n",
       "      <td>6.000000e+00</td>\n",
       "      <td>6.000000e+00</td>\n",
       "    </tr>\n",
       "    <tr>\n",
       "      <th>max</th>\n",
       "      <td>3.058846e+06</td>\n",
       "      <td>5.037492e+06</td>\n",
       "      <td>4.999620e+05</td>\n",
       "      <td>4.830000e+03</td>\n",
       "      <td>3.800000e+04</td>\n",
       "      <td>5.106443e+05</td>\n",
       "      <td>9.847400e+05</td>\n",
       "      <td>0.0</td>\n",
       "      <td>0.0</td>\n",
       "      <td>0.0</td>\n",
       "      <td>...</td>\n",
       "      <td>9.999999e+06</td>\n",
       "      <td>3.230000e+05</td>\n",
       "      <td>3.500000e+05</td>\n",
       "      <td>1.194442e+05</td>\n",
       "      <td>5.980035e+05</td>\n",
       "      <td>9.999990e+05</td>\n",
       "      <td>2.100026e+04</td>\n",
       "      <td>6.482035e+05</td>\n",
       "      <td>6.000000e+00</td>\n",
       "      <td>6.000000e+00</td>\n",
       "    </tr>\n",
       "  </tbody>\n",
       "</table>\n",
       "<p>8 rows × 22 columns</p>\n",
       "</div>"
      ],
      "text/plain": [
       "         Unnamed: 0  Unnamed: 0_x     DBM Order    Order Item  Order Quantity  \\\n",
       "count  3.058847e+06  3.058847e+06  3.058847e+06  3.058847e+06    3.058847e+06   \n",
       "mean   1.529423e+06  2.482338e+06  2.308076e+05  9.961490e+01    4.290756e+01   \n",
       "std    8.830132e+05  1.609112e+06  1.417977e+05  1.354036e+02    3.227786e+02   \n",
       "min    0.000000e+00  0.000000e+00  4.000000e+00  1.000000e+01    1.000000e-03   \n",
       "25%    7.647115e+05  1.419264e+06  1.116800e+05  3.000000e+01    1.000000e+00   \n",
       "50%    1.529423e+06  2.175085e+06  2.193500e+05  6.000000e+01    1.000000e+00   \n",
       "75%    2.294134e+06  4.269998e+06  3.492920e+05  1.200000e+02    4.000000e+00   \n",
       "max    3.058846e+06  5.037492e+06  4.999620e+05  4.830000e+03    3.800000e+04   \n",
       "\n",
       "          Net value  Unnamed: 0_y  Amt Rcvd From Custom  Amt Rcvd From Ins Co  \\\n",
       "count  3.058847e+06  3.058847e+06             3058847.0             3058847.0   \n",
       "mean   7.129231e+02  5.591209e+05                   0.0                   0.0   \n",
       "std    1.933881e+03  3.115537e+05                   0.0                   0.0   \n",
       "min   -5.550100e+02  0.000000e+00                   0.0                   0.0   \n",
       "25%    8.297000e+01  1.186040e+05                   0.0                   0.0   \n",
       "50%    2.700000e+02  6.649550e+05                   0.0                   0.0   \n",
       "75%    6.989800e+02  7.831020e+05                   0.0                   0.0   \n",
       "max    5.106443e+05  9.847400e+05                   0.0                   0.0   \n",
       "\n",
       "       Area / Locality  ...   KMs Reading  Labour Total    Misc Total  \\\n",
       "count        3058847.0  ...  3.058847e+06  3.058847e+06  3.058847e+06   \n",
       "mean               0.0  ...  8.205178e+04  3.275665e+03  3.055610e+02   \n",
       "std                0.0  ...  1.160389e+05  7.518786e+03  2.079974e+03   \n",
       "min                0.0  ...  1.000000e+00 -1.370000e+02 -1.000000e-02   \n",
       "25%                0.0  ...  3.943800e+04  5.552300e+02  0.000000e+00   \n",
       "50%                0.0  ...  6.494600e+04  1.366940e+03  0.000000e+00   \n",
       "75%                0.0  ...  9.850000e+04  3.219170e+03  1.000100e+02   \n",
       "max                0.0  ...  9.999999e+06  3.230000e+05  3.500000e+05   \n",
       "\n",
       "          OSL Total   Parts Total      Pin code  Recovrbl Exp  \\\n",
       "count  3.058847e+06  3.058847e+06  3.058847e+06  3.058847e+06   \n",
       "mean   1.361022e+03  8.948120e+03  4.395251e+05  4.237190e+00   \n",
       "std    5.316826e+03  2.246654e+04  1.641620e+05  1.183262e+02   \n",
       "min    0.000000e+00 -1.000000e-02  0.000000e+00  0.000000e+00   \n",
       "25%    0.000000e+00  9.762500e+02  3.961950e+05  0.000000e+00   \n",
       "50%    0.000000e+00  2.924890e+03  4.231010e+05  0.000000e+00   \n",
       "75%    4.000000e+02  7.665010e+03  6.000060e+05  0.000000e+00   \n",
       "max    1.194442e+05  5.980035e+05  9.999990e+05  2.100026e+04   \n",
       "\n",
       "       Total Amt Wtd Tax.  Partner Type         Title  \n",
       "count        3.058847e+06  3.058847e+06  3.058847e+06  \n",
       "mean         1.389037e+04  5.755503e+00  5.929674e+00  \n",
       "std          2.954903e+04  1.067458e+00  3.886897e-01  \n",
       "min         -1.370000e+02  1.000000e+00  1.000000e+00  \n",
       "25%          2.202550e+03  6.000000e+00  6.000000e+00  \n",
       "50%          5.305730e+03  6.000000e+00  6.000000e+00  \n",
       "75%          1.280922e+04  6.000000e+00  6.000000e+00  \n",
       "max          6.482035e+05  6.000000e+00  6.000000e+00  \n",
       "\n",
       "[8 rows x 22 columns]"
      ]
     },
     "execution_count": 8,
     "metadata": {},
     "output_type": "execute_result"
    }
   ],
   "source": [
    "df.describe()"
   ]
  },
  {
   "cell_type": "code",
   "execution_count": 9,
   "metadata": {},
   "outputs": [
    {
     "data": {
      "text/plain": [
       "Index(['Unnamed: 0', 'Unnamed: 0_x', 'DBM Order', 'Order Item', 'Material',\n",
       "       'Labor Value Number', 'Description', 'Item Category', 'Order Quantity',\n",
       "       'Target quantity UoM', 'Net value', 'Unnamed: 0_y',\n",
       "       'Amt Rcvd From Custom', 'Amt Rcvd From Ins Co', 'Area / Locality',\n",
       "       'CITY', 'Cash /Cashless Type', 'Cust Type', 'Customer No.', 'District',\n",
       "       'Gate Pass Date', 'Gate Pass Time', 'Invoice Date', 'Invoice No',\n",
       "       'Invoice Time', 'Job Card No', 'JobCard Date', 'JobCard Time',\n",
       "       'KMs Reading', 'Labour Total', 'Make', 'Misc Total', 'Model',\n",
       "       'OSL Total', 'Order Type', 'Parts Total', 'Pin code', 'Plant',\n",
       "       'Plant Name1', 'Print Status', 'Recovrbl Exp', 'Regn No',\n",
       "       'Technician Name', 'Total Amt Wtd Tax.', 'User ID', 'Business Partner',\n",
       "       'Partner Type', 'Data Origin', 'Title'],\n",
       "      dtype='object')"
      ]
     },
     "execution_count": 9,
     "metadata": {},
     "output_type": "execute_result"
    }
   ],
   "source": [
    "df.columns"
   ]
  },
  {
   "cell_type": "code",
   "execution_count": 10,
   "metadata": {},
   "outputs": [
    {
     "data": {
      "text/plain": [
       "0"
      ]
     },
     "execution_count": 10,
     "metadata": {},
     "output_type": "execute_result"
    }
   ],
   "source": [
    "df['Pin code'].isnull().sum()"
   ]
  },
  {
   "cell_type": "code",
   "execution_count": 11,
   "metadata": {},
   "outputs": [],
   "source": [
    "cat_cols = [ 'Item Category','Target quantity UoM','Cash /Cashless Type', 'Cust Type']"
   ]
  },
  {
   "cell_type": "code",
   "execution_count": 12,
   "metadata": {},
   "outputs": [
    {
     "data": {
      "image/png": "[encoded data removed]",
      "text/plain": [
       "<Figure size 432x432 with 1 Axes>"
      ]
     },
     "metadata": {
      "needs_background": "light"
     },
     "output_type": "display_data"
    },
    {
     "data": {
      "image/png": "[encoded data removed]",
      "text/plain": [
       "<Figure size 432x432 with 1 Axes>"
      ]
     },
     "metadata": {
      "needs_background": "light"
     },
     "output_type": "display_data"
    },
    {
     "data": {
      "image/png": "[encoded data removed]",
      "text/plain": [
       "<Figure size 432x432 with 1 Axes>"
      ]
     },
     "metadata": {
      "needs_background": "light"
     },
     "output_type": "display_data"
    },
    {
     "data": {
      "image/png": "[encoded data removed]",
      "text/plain": [
       "<Figure size 432x432 with 1 Axes>"
      ]
     },
     "metadata": {
      "needs_background": "light"
     },
     "output_type": "display_data"
    }
   ],
   "source": [
    "for col in cat_cols:\n",
    "    fig = plt.figure(figsize=(6,6)) # define plot area\n",
    "    ax = fig.gca() # define axis  \n",
    "    \n",
    "    counts = df[col].value_counts() # find the counts for each unique category\n",
    "    counts.plot.bar(ax = ax) # Use the plot.bar method on the counts data frame\n",
    "    ax.set_title('Bar plot for ' + col)"
   ]
  },
  {
   "cell_type": "code",
   "execution_count": 13,
   "metadata": {},
   "outputs": [],
   "source": [
    "cot_cols1=['Print Status','Partner Type', 'Data Origin', 'Title','District']"
   ]
  },
  {
   "cell_type": "code",
   "execution_count": 14,
   "metadata": {},
   "outputs": [
    {
     "data": {
      "image/png": "[encoded data removed]",
      "text/plain": [
       "<Figure size 432x432 with 1 Axes>"
      ]
     },
     "metadata": {
      "needs_background": "light"
     },
     "output_type": "display_data"
    },
    {
     "data": {
      "image/png": "[encoded data removed]",
      "text/plain": [
       "<Figure size 432x432 with 1 Axes>"
      ]
     },
     "metadata": {
      "needs_background": "light"
     },
     "output_type": "display_data"
    },
    {
     "data": {
      "image/png": "[encoded data removed]",
      "text/plain": [
       "<Figure size 432x432 with 1 Axes>"
      ]
     },
     "metadata": {
      "needs_background": "light"
     },
     "output_type": "display_data"
    },
    {
     "data": {
      "image/png": "[encoded data removed]",
      "text/plain": [
       "<Figure size 432x432 with 1 Axes>"
      ]
     },
     "metadata": {
      "needs_background": "light"
     },
     "output_type": "display_data"
    },
    {
     "data": {
      "image/png": "[encoded data removed]",
      "text/plain": [
       "<Figure size 432x432 with 1 Axes>"
      ]
     },
     "metadata": {
      "needs_background": "light"
     },
     "output_type": "display_data"
    }
   ],
   "source": [
    "for col in cot_cols1:   \n",
    "    fig = plt.figure(figsize=(6,6)) # define plot area\n",
    "    ax = fig.gca() # define axis  \n",
    "    \n",
    "    counts = df[col].value_counts() # find the counts for each unique category\n",
    "    counts.plot.bar(ax = ax) # Use the plot.bar method on the counts data frame\n",
    "    ax.set_title('Bar plot for ' + col)"
   ]
  },
  {
   "cell_type": "code",
   "execution_count": 15,
   "metadata": {},
   "outputs": [
    {
     "data": {
      "text/plain": [
       "Text(0.5, 0, 'Model')"
      ]
     },
     "execution_count": 15,
     "metadata": {},
     "output_type": "execute_result"
    },
    {
     "data": {
      "image/png": "[encoded data removed]",
      "text/plain": [
       "<Figure size 1080x360 with 1 Axes>"
      ]
     },
     "metadata": {
      "needs_background": "light"
     },
     "output_type": "display_data"
    }
   ],
   "source": [
    "df['Model'].value_counts().nlargest(30).plot(kind='bar', figsize=(15,5))\n",
    "plt.title(\"Number of model by make\")\n",
    "plt.ylabel('Number of vehicles')\n",
    "plt.xlabel('Model')"
   ]
  },
  {
   "cell_type": "code",
   "execution_count": 16,
   "metadata": {},
   "outputs": [
    {
     "data": {
      "text/plain": [
       "<matplotlib.axes._subplots.AxesSubplot at 0x1620dc97a20>"
      ]
     },
     "execution_count": 16,
     "metadata": {},
     "output_type": "execute_result"
    },
    {
     "data": {
      "image/png": "[encoded data removed]",
      "text/plain": [
       "<Figure size 1080x360 with 1 Axes>"
      ]
     },
     "metadata": {
      "needs_background": "light"
     },
     "output_type": "display_data"
    }
   ],
   "source": [
    "df['Material'].value_counts().nlargest(20).plot(kind='bar', figsize=(15,5))"
   ]
  },
  {
   "cell_type": "code",
   "execution_count": 17,
   "metadata": {},
   "outputs": [
    {
     "data": {
      "text/plain": [
       "<matplotlib.axes._subplots.AxesSubplot at 0x1620dd334e0>"
      ]
     },
     "execution_count": 17,
     "metadata": {},
     "output_type": "execute_result"
    },
    {
     "data": {
      "image/png": "[encoded data removed]",
      "text/plain": [
       "<Figure size 1080x360 with 1 Axes>"
      ]
     },
     "metadata": {
      "needs_background": "light"
     },
     "output_type": "display_data"
    }
   ],
   "source": [
    "df['Plant'].value_counts().nlargest(20).plot(kind='bar', figsize=(15,5))"
   ]
  },
  {
   "cell_type": "code",
   "execution_count": 21,
   "metadata": {},
   "outputs": [],
   "source": []
  },
  {
   "cell_type": "code",
   "execution_count": null,
   "metadata": {},
   "outputs": [],
   "source": []
  },
  {
   "cell_type": "code",
   "execution_count": 24,
   "metadata": {},
   "outputs": [
    {
     "data": {
      "text/plain": [
       "<matplotlib.axes._subplots.AxesSubplot at 0x24cb9d56470>"
      ]
     },
     "execution_count": 24,
     "metadata": {},
     "output_type": "execute_result"
    },
    {
     "data": {
      "image/png": "[encoded data removed]",
      "text/plain": [
       "<Figure size 432x288 with 1 Axes>"
      ]
     },
     "metadata": {
      "needs_background": "light"
     },
     "output_type": "display_data"
    }
   ],
   "source": [
    "sns.kdeplot(df['Total Amt Wtd Tax.'])"
   ]
  },
  {
   "cell_type": "code",
   "execution_count": 26,
   "metadata": {},
   "outputs": [
    {
     "data": {
      "text/plain": [
       "<matplotlib.axes._subplots.AxesSubplot at 0x24cb9cd3978>"
      ]
     },
     "execution_count": 26,
     "metadata": {},
     "output_type": "execute_result"
    },
    {
     "data": {
      "image/png": "[encoded data removed]",
      "text/plain": [
       "<Figure size 432x288 with 1 Axes>"
      ]
     },
     "metadata": {
      "needs_background": "light"
     },
     "output_type": "display_data"
    }
   ],
   "source": [
    "sns.kdeplot(df['Labour Total'])"
   ]
  },
  {
   "cell_type": "code",
   "execution_count": 18,
   "metadata": {},
   "outputs": [
    {
     "data": {
      "text/plain": [
       "<matplotlib.axes._subplots.AxesSubplot at 0x1620dd0cb70>"
      ]
     },
     "execution_count": 18,
     "metadata": {},
     "output_type": "execute_result"
    },
    {
     "data": {
      "image/png": "[encoded data removed]",
      "text/plain": [
       "<Figure size 432x288 with 1 Axes>"
      ]
     },
     "metadata": {
      "needs_background": "light"
     },
     "output_type": "display_data"
    }
   ],
   "source": [
    "sns.kdeplot(df['Net value'])"
   ]
  },
  {
   "cell_type": "code",
   "execution_count": 25,
   "metadata": {},
   "outputs": [
    {
     "data": {
      "text/plain": [
       "Model                 Make                \n",
       "Q5                    AUDI                    104861.506319\n",
       "GL-CLASS              MERCEDES BENZ            93878.748667\n",
       "X1                    BMW                      92539.485000\n",
       "S 350 L               MERCEDES BENZ            67278.446111\n",
       "MONTERO               MITSUBISHI MOTORS        44525.486850\n",
       "MINIS                 BMW                      35695.218462\n",
       "CAPTIVA               GENERAL MOTORS           33520.418318\n",
       "XENON XT              TATA MOTORS              31647.710967\n",
       "FORTUNER              TOYOTA                   30934.582465\n",
       "BMW-M5                BMW                      28849.426000\n",
       "X3                    BMW                      28337.975397\n",
       "ENJOY                 GENERAL MOTORS           26548.053457\n",
       "PAJERO                MITSUBISHI MOTORS        25227.048949\n",
       "LAND CRUISER PRADO    TOYOTA                   24813.413506\n",
       "SUPERB                SKODA                    24738.290011\n",
       "CLASSIC               MAHINDRA &  MAHINDRA     21974.711302\n",
       "CHEVROLET CRUZE       GENERAL MOTORS           21402.990067\n",
       "ZEST                  TATA MOTORS              21139.357153\n",
       "LAURA                 SKODA                    21135.796318\n",
       "XUV 500               MAHINDRA &  MAHINDRA     19769.680182\n",
       "MAHINDRA PIK UP       MAHINDRA &  MAHINDRA     19483.622518\n",
       "INNOVA                TOYOTA                   17715.153790\n",
       "RAPID                 SKODA                    17181.052446\n",
       "BOLERO PIK UP         MAHINDRA &  MAHINDRA     16909.906770\n",
       "ARMADA                MAHINDRA &  MAHINDRA     16766.976871\n",
       "SUPER SUNNY           NISSAN                   16663.190012\n",
       "SONATA                HYUNDAI                  15870.142902\n",
       "SSANYONG REXTON       MAHINDRA &  MAHINDRA     15790.406945\n",
       "LINEA                 FIAT                     15726.094211\n",
       "SCORPIO CRDE          MAHINDRA &  MAHINDRA     15226.440667\n",
       "                                                  ...      \n",
       "CHEROKEE              JEEP                       511.658571\n",
       "GRAND                 HINDUSTAN MOTORS           455.687692\n",
       "SAN STORM 1.2         SAN MOTORS                 386.863529\n",
       "JAGUAR XF             TATA MOTORS                342.159091\n",
       "TOUAREG               VOLKSWAGEN                 324.223333\n",
       "BREZZA                MARUTI SUZUKI              163.816078\n",
       "AUSTIN                MORRIS                     156.555000\n",
       "CL-CLASS              MERCEDES BENZ              117.632353\n",
       "TATA-NANO             TOYOTA                     108.037500\n",
       "LAND ROVER DISCOVERY  TATA MOTORS                 58.716667\n",
       "CAYENNE               PORCHE                      50.667500\n",
       "LODGY                 RENAULT                     18.142857\n",
       "PUSHPAK               HINDUSTAN MOTORS            12.230000\n",
       "BMW-M6                BMW                          5.710769\n",
       "NEXIA                 DAEWOO                       0.000000\n",
       "TT                    AUDI                         0.000000\n",
       "SLK-CLASS             MERCEDES BENZ                0.000000\n",
       "VOLVO S80             VOLVO                        0.000000\n",
       "Z4                    BMW                          0.000000\n",
       "6 SERIES              BMW                          0.000000\n",
       "ESTILO                MARUTI SUZUKI                0.000000\n",
       "TIAGO                 TATA MOTORS                  0.000000\n",
       "CLS-CLASS             MERCEDES BENZ                0.000000\n",
       "VECTRA                GENERAL MOTORS               0.000000\n",
       "A7                    AUDI                         0.000000\n",
       "A8                    AUDI                         0.000000\n",
       "AMEO                  VOLKSWAGEN                   0.000000\n",
       "ROOMSTER              SKODA                        0.000000\n",
       "ML-CLASS              MERCEDES BENZ                0.000000\n",
       "BMW X6                BMW                          0.000000\n",
       "Name: Parts Total, Length: 246, dtype: float64"
      ]
     },
     "execution_count": 25,
     "metadata": {},
     "output_type": "execute_result"
    }
   ],
   "source": [
    "df.groupby(['Model','Make'])['Parts Total'].mean().sort_values(ascending=False)"
   ]
  },
  {
   "cell_type": "code",
   "execution_count": 24,
   "metadata": {},
   "outputs": [
    {
     "data": {
      "text/plain": [
       "Model                 Make                \n",
       "Q5                    AUDI                    119159.764861\n",
       "X1                    BMW                     107554.344800\n",
       "GL-CLASS              MERCEDES BENZ            99817.282000\n",
       "S 350 L               MERCEDES BENZ            90331.821111\n",
       "MONTERO               MITSUBISHI MOTORS        49227.346772\n",
       "G CLASS               MERCEDES BENZ            46027.295750\n",
       "CAPTIVA               GENERAL MOTORS           43787.838347\n",
       "XENON XT              TATA MOTORS              43640.951732\n",
       "MINIS                 BMW                      42063.418462\n",
       "CLASSIC               MAHINDRA &  MAHINDRA     40540.044906\n",
       "ZEST                  TATA MOTORS              40202.379513\n",
       "FORTUNER              TOYOTA                   37662.509201\n",
       "X3                    BMW                      37184.508889\n",
       "ENJOY                 GENERAL MOTORS           36773.390126\n",
       "BMW-M5                BMW                      35953.114909\n",
       "PAJERO                MITSUBISHI MOTORS        34266.871915\n",
       "S 320 CDI L           MERCEDES BENZ            33948.557386\n",
       "A6                    AUDI                     33907.783291\n",
       "ARMADA                MAHINDRA &  MAHINDRA     33049.133404\n",
       "MAHINDRA PIK UP       MAHINDRA &  MAHINDRA     32874.634480\n",
       "LAND CRUISER PRADO    TOYOTA                   32076.325065\n",
       "SUPERB                SKODA                    31631.967140\n",
       "LAURA                 SKODA                    28373.431427\n",
       "GYPSY 1300            MARUTI SUZUKI            27943.943988\n",
       "CHEVROLET CRUZE       GENERAL MOTORS           27907.355661\n",
       "XUV 500               MAHINDRA &  MAHINDRA     27073.268140\n",
       "BOLERO PIK UP         MAHINDRA &  MAHINDRA     25979.477802\n",
       "INNOVA                TOYOTA                   24956.356540\n",
       "SUPER SUNNY           NISSAN                   23725.773994\n",
       "RAPID                 SKODA                    23610.690500\n",
       "                                                  ...      \n",
       "VECTRA                GENERAL MOTORS            2900.550000\n",
       "LAUREL                NISSAN                    2889.531556\n",
       "JAGUAR XL             TATA MOTORS               2876.435000\n",
       "ROOMSTER              SKODA                     2807.785714\n",
       "TRAILBLAZER           GENERAL MOTORS            2680.590000\n",
       "FOCUS                 FORD                      2470.947500\n",
       "CRETA                 HYUNDAI                   2303.066880\n",
       "6 SERIES              BMW                       2007.920000\n",
       "SAIL                  HONDA                     1995.991667\n",
       "CAYENNE               PORCHE                    1821.870000\n",
       "A8                    AUDI                      1515.848000\n",
       "ML-CLASS              MERCEDES BENZ             1485.184000\n",
       "SLK-CLASS             MERCEDES BENZ             1408.540000\n",
       "LAND ROVER DISCOVERY  TATA MOTORS               1347.284444\n",
       "500                   FIAT                      1341.215000\n",
       "VOLVO S80             VOLVO                     1280.375714\n",
       "BMW X6                BMW                       1196.793333\n",
       "SAN STORM 1.2         SAN MOTORS                1153.518235\n",
       "TT                    AUDI                       898.880000\n",
       "BRV                   HONDA                      776.280000\n",
       "Z4                    BMW                        719.140000\n",
       "LODGY                 RENAULT                    594.245000\n",
       "ALTO                  HYUNDAI                    564.616364\n",
       "A7                    AUDI                       525.010000\n",
       "TIAGO                 TATA MOTORS                512.124762\n",
       "AUSTIN                MORRIS                     369.565000\n",
       "TATA-NANO             TOYOTA                     259.150000\n",
       "ESTILO                MARUTI SUZUKI               98.760000\n",
       "PUSHPAK               HINDUSTAN MOTORS            12.230000\n",
       "NEXIA                 DAEWOO                       0.000000\n",
       "Name: Total Amt Wtd Tax., Length: 246, dtype: float64"
      ]
     },
     "execution_count": 24,
     "metadata": {},
     "output_type": "execute_result"
    }
   ],
   "source": [
    "df.groupby(['Model','Make'])['Total Amt Wtd Tax.'].mean().sort_values(ascending=False)"
   ]
  },
  {
   "cell_type": "code",
   "execution_count": 23,
   "metadata": {},
   "outputs": [
    {
     "data": {
      "text/plain": [
       "Model                   Make                \n",
       "A6                      AUDI                    29335.085570\n",
       "GYPSY 1300              MARUTI SUZUKI           17282.436098\n",
       "S 350 L                 MERCEDES BENZ           16672.695000\n",
       "ZEST                    TATA MOTORS             16435.207447\n",
       "CLASSIC                 MAHINDRA &  MAHINDRA    15263.324358\n",
       "S 320 CDI L             MERCEDES BENZ           14384.013636\n",
       "X1                      BMW                     14081.473600\n",
       "Q5                      AUDI                    13505.819792\n",
       "GRAND                   HINDUSTAN MOTORS        11570.340577\n",
       "MAHINDRA PIK UP         MAHINDRA &  MAHINDRA    10703.046099\n",
       "RHINO RX                SONALIKA                10457.163261\n",
       "KOLEOS                  RENAULT                 10357.475565\n",
       "XENON XT                TATA MOTORS             10145.039437\n",
       "Q7                      AUDI                    10055.533782\n",
       "A4                      AUDI                     9378.264698\n",
       "X-TRAIL                 NISSAN                   8791.425355\n",
       "PAJERO                  MITSUBISHI MOTORS        8487.166951\n",
       "TRAX                    FORCE                    8464.736853\n",
       "X3                      BMW                      8410.025238\n",
       "SRV                     GENERAL MOTORS           8363.833396\n",
       "3 SERIES                BMW                      8347.022568\n",
       "WINGER                  TATA MOTORS              7945.928654\n",
       "KUV100                  MAHINDRA &  MAHINDRA     7834.111655\n",
       "ENJOY                   GENERAL MOTORS           7759.933152\n",
       "VELOSTER                HYUNDAI                  7406.026471\n",
       "BREZZA                  MARUTI SUZUKI            7314.207451\n",
       "MAHINDRA MM             MAHINDRA &  MAHINDRA     7253.341250\n",
       "LAND CRUISER PRADO      TOYOTA                   7250.710000\n",
       "LAND ROVER RANGE ROVER  TATA MOTORS              7188.932000\n",
       "GENIO                   MAHINDRA &  MAHINDRA     6903.111234\n",
       "                                                    ...     \n",
       "BMW X6                  BMW                      1046.666667\n",
       "REVA                    MAHINDRA &  MAHINDRA      989.404048\n",
       "TUCSON                  HYUNDAI                   955.659771\n",
       "ROOMSTER                SKODA                     911.094286\n",
       "TT                      AUDI                      898.880000\n",
       "Z4                      BMW                       719.140000\n",
       "500                     FIAT                      700.093125\n",
       "BOLT                    TATA MOTORS               644.608692\n",
       "G CLASS                 MERCEDES BENZ             592.689500\n",
       "FOCUS                   FORD                      583.384375\n",
       "LODGY                   RENAULT                   576.102143\n",
       "ML-CLASS                MERCEDES BENZ             555.646000\n",
       "SUPRO                   MAHINDRA &  MAHINDRA      551.672500\n",
       "SAN STORM 1.2           SAN MOTORS                539.287059\n",
       "A7                      AUDI                      525.010000\n",
       "CRETA                   HYUNDAI                   359.275200\n",
       "TIAGO                   TATA MOTORS               289.511905\n",
       "AUSTIN                  MORRIS                    213.010000\n",
       "TATA-NANO               TOYOTA                    151.112500\n",
       "JAGUAR XL               TATA MOTORS               133.481667\n",
       "ESTILO                  MARUTI SUZUKI              98.760000\n",
       "CHEROKEE                JEEP                       61.602857\n",
       "SAIL                    HONDA                      55.990000\n",
       "LIMOUSINE               FORD                       37.560000\n",
       "BRV                     HONDA                       0.000000\n",
       "ALTO                    HYUNDAI                     0.000000\n",
       "EVALIA                  NISSAN                      0.000000\n",
       "PUSHPAK                 HINDUSTAN MOTORS            0.000000\n",
       "NEXIA                   DAEWOO                      0.000000\n",
       "VECTRA                  GENERAL MOTORS              0.000000\n",
       "Name: Labour Total, Length: 246, dtype: float64"
      ]
     },
     "execution_count": 23,
     "metadata": {},
     "output_type": "execute_result"
    }
   ],
   "source": [
    "df.groupby(['Model','Make'])['Labour Total'].mean().sort_values(ascending=False)"
   ]
  },
  {
   "cell_type": "code",
   "execution_count": 22,
   "metadata": {},
   "outputs": [
    {
     "data": {
      "text/plain": [
       "Model                 Make               \n",
       "S 350 L               MERCEDES BENZ          11696.676111\n",
       "GL-CLASS              MERCEDES BENZ           9746.198667\n",
       "MINIS                 BMW                     7413.363077\n",
       "Q5                    AUDI                    6186.101111\n",
       "ECO SPORT             FORD                    5980.815000\n",
       "X1                    BMW                     5763.364800\n",
       "X3                    BMW                     4365.953651\n",
       "FORESTER              GENERAL MOTORS          4153.951852\n",
       "E-CLASS               MERCEDES BENZ           3973.813981\n",
       "A6                    AUDI                    3906.422405\n",
       "ROVER                 LAND ROVER              3877.755250\n",
       "MONTERO               MITSUBISHI MOTORS       3705.298583\n",
       "A4                    AUDI                    3698.905973\n",
       "S 320 CDI L           MERCEDES BENZ           3628.680568\n",
       "BMW-M5                BMW                     3522.127455\n",
       "7 SERIES              BMW                     3219.208710\n",
       "KOLEOS                RENAULT                 3175.434919\n",
       "LIMOUSINE             FORD                    2917.392500\n",
       "Q7                    AUDI                    2851.512101\n",
       "CHEROKEE              JEEP                    2737.062857\n",
       "C-CLASS               MERCEDES BENZ           2475.926800\n",
       "CAPTIVA               GENERAL MOTORS          2453.518080\n",
       "5 SERIES              BMW                     2452.946894\n",
       "FORTUNER              TOYOTA                  2394.218386\n",
       "PASSAT                VOLKSWAGEN              2267.944645\n",
       "BMW-M3                BMW                     2179.727143\n",
       "3 SERIES              BMW                     2154.774324\n",
       "VOLVO XC90            VOLVO                   2154.250385\n",
       "ML 350                MERCEDES BENZ           2147.933091\n",
       "SUPERB                SKODA                   2090.383581\n",
       "                                                 ...     \n",
       "ESTEEM 1300           MARUTI SUZUKI            498.944528\n",
       "MAGIC                 TATA MOTORS              491.215549\n",
       "A STAR                MARUTI SUZUKI            480.260404\n",
       "SANTRO XING           HYUNDAI                  471.151926\n",
       "SANTRO                HYUNDAI                  470.842702\n",
       "EECO                  MARUTI SUZUKI            450.094720\n",
       "PADMINI               PREMIER AUTOMOBILES      437.816327\n",
       "ESTEEM 1000           MARUTI SUZUKI            435.009767\n",
       "WAGONR                MARUTI SUZUKI            429.978580\n",
       "ALTO                  MARUTI SUZUKI            428.239196\n",
       "ZEN ESTILO            MARUTI SUZUKI            423.817702\n",
       "ZEN                   MARUTI SUZUKI            418.295810\n",
       "SAIL                  HONDA                    415.262500\n",
       "TIAGO                 TATA MOTORS              404.984762\n",
       "OMNI                  MARUTI SUZUKI            386.325635\n",
       "TL                    TATA MOTORS              384.287812\n",
       "SAN STORM 1.2         SAN MOTORS               362.362941\n",
       "800                   MARUTI SUZUKI            350.403283\n",
       "LODGY                 RENAULT                  346.376429\n",
       "ASTAR                 MARUTI SUZUKI            338.815882\n",
       "500                   FIAT                     323.321875\n",
       "BRV                   HONDA                    300.510000\n",
       "CONTESSA              HINDUSTAN MOTORS         234.772745\n",
       "LAND ROVER DISCOVERY  TATA MOTORS              228.703333\n",
       "TATA-NANO             TOYOTA                   108.160000\n",
       "AUSTIN                MORRIS                   104.695000\n",
       "ESTILO                MARUTI SUZUKI             98.760000\n",
       "ALTO                  HYUNDAI                   94.102727\n",
       "PUSHPAK               HINDUSTAN MOTORS          12.230000\n",
       "NEXIA                 DAEWOO                     0.000000\n",
       "Name: Net value, Length: 246, dtype: float64"
      ]
     },
     "execution_count": 22,
     "metadata": {},
     "output_type": "execute_result"
    }
   ],
   "source": [
    "df.groupby(['Model','Make'])['Net value'].mean().sort_values(ascending=False)"
   ]
  },
  {
   "cell_type": "code",
   "execution_count": null,
   "metadata": {},
   "outputs": [],
   "source": []
  }
 ],
 "metadata": {
  "kernelspec": {
   "display_name": "Python 3",
   "language": "python",
   "name": "python3"
  },
  "language_info": {
   "codemirror_mode": {
    "name": "ipython",
    "version": 3
   },
   "file_extension": ".py",
   "mimetype": "text/x-python",
   "name": "python",
   "nbconvert_exporter": "python",
   "pygments_lexer": "ipython3",
   "version": "3.7.3"
  }
 },
 "nbformat": 4,
 "nbformat_minor": 2
}
