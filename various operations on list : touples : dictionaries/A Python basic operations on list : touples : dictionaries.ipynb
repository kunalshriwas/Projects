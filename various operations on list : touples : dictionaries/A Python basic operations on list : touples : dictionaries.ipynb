{
 "cells": [
  {
   "cell_type": "markdown",
   "metadata": {},
   "source": [
    "# program to add two numbers"
   ]
  },
  {
   "cell_type": "code",
   "execution_count": 1,
   "metadata": {},
   "outputs": [
    {
     "name": "stdout",
     "output_type": "stream",
     "text": [
      "11\n"
     ]
    }
   ],
   "source": [
    "a = 5\n",
    "b  = 6\n",
    "c=a+b\n",
    "print(c)"
   ]
  },
  {
   "cell_type": "code",
   "execution_count": 5,
   "metadata": {},
   "outputs": [
    {
     "name": "stdout",
     "output_type": "stream",
     "text": [
      "enter 1st no.:3\n",
      "enter 2nd no.:3\n",
      "6.0\n"
     ]
    }
   ],
   "source": [
    "a = input(\"enter 1st no.:\")\n",
    "b = input(\"enter 2nd no.:\")\n",
    "\n",
    "sum=(float(a)+float(b))\n",
    "print(sum)"
   ]
  },
  {
   "cell_type": "markdown",
   "metadata": {},
   "source": [
    "# program to find factorial of a number"
   ]
  },
  {
   "cell_type": "code",
   "execution_count": 14,
   "metadata": {},
   "outputs": [],
   "source": [
    "def fact(n):\n",
    "    return 1 if (n==0 or n==1) else n*fact(n-1)"
   ]
  },
  {
   "cell_type": "code",
   "execution_count": 15,
   "metadata": {},
   "outputs": [
    {
     "data": {
      "text/plain": [
       "120"
      ]
     },
     "execution_count": 15,
     "metadata": {},
     "output_type": "execute_result"
    }
   ],
   "source": [
    "fact(5)"
   ]
  },
  {
   "cell_type": "markdown",
   "metadata": {},
   "source": [
    "# Program for simple interest"
   ]
  },
  {
   "cell_type": "code",
   "execution_count": 19,
   "metadata": {},
   "outputs": [
    {
     "name": "stdout",
     "output_type": "stream",
     "text": [
      "simple interest is: 1200 Rs\n"
     ]
    }
   ],
   "source": [
    "p = 10000\n",
    "r=3\n",
    "t=4\n",
    "\n",
    "si = (p*r*t)/100\n",
    "\n",
    "print(\"simple interest is:\",int(si),\"Rs\")"
   ]
  },
  {
   "cell_type": "markdown",
   "metadata": {},
   "source": [
    "# Program for Compund interest"
   ]
  },
  {
   "cell_type": "code",
   "execution_count": 22,
   "metadata": {},
   "outputs": [
    {
     "name": "stdout",
     "output_type": "stream",
     "text": [
      "compund interest is: 1333 Rs\n"
     ]
    }
   ],
   "source": [
    "p = 1200\n",
    "r = 5.4\n",
    "t = 2\n",
    "\n",
    "CI = p*(1+r/100)**t\n",
    "\n",
    "print(\"compund interest is:\",int(CI),\"Rs\")"
   ]
  },
  {
   "cell_type": "markdown",
   "metadata": {},
   "source": [
    "# Program to Check Armstrong Number"
   ]
  },
  {
   "cell_type": "code",
   "execution_count": 32,
   "metadata": {},
   "outputs": [
    {
     "name": "stdout",
     "output_type": "stream",
     "text": [
      "enter the number:1634\n",
      "input no. is armstrong number:\n"
     ]
    }
   ],
   "source": [
    "num = int(input(\"enter the number:\"))\n",
    "\n",
    "sm = 0\n",
    "temp = num\n",
    "order = len(str(num))\n",
    "while temp>0:\n",
    "    digit = temp%10\n",
    "    sm+=digit**order\n",
    "    temp //= 10\n",
    "    \n",
    "if (num==sm):\n",
    "    print(\"input no. is armstrong number:\")\n",
    "else:\n",
    "    print(\"input no. is not an armstrong number:\")"
   ]
  },
  {
   "cell_type": "markdown",
   "metadata": {},
   "source": [
    "# program to find area of a circle"
   ]
  },
  {
   "cell_type": "code",
   "execution_count": 33,
   "metadata": {},
   "outputs": [
    {
     "name": "stdout",
     "output_type": "stream",
     "text": [
      "enter radius of a circle:2\n",
      "area of a circle is: 12.568\n"
     ]
    }
   ],
   "source": [
    "r = float(input(\"enter radius of a circle:\"))\n",
    "pi = 3.142\n",
    "area = pi * (r**2)\n",
    "\n",
    "print(\"area of a circle is:\",area)"
   ]
  },
  {
   "cell_type": "markdown",
   "metadata": {},
   "source": [
    "# Program to Check Prime Number"
   ]
  },
  {
   "cell_type": "code",
   "execution_count": 59,
   "metadata": {},
   "outputs": [
    {
     "name": "stdout",
     "output_type": "stream",
     "text": [
      "15 is not a prime number\n"
     ]
    }
   ],
   "source": [
    "num = 15\n",
    "\n",
    "   # check for factors\n",
    "for i in range(2,num):\n",
    "    if (num % i) == 0:\n",
    "        print(num,\"is not a prime number\")\n",
    "        break\n",
    "else:\n",
    "    print(num,\"is a prime number\")\n",
    "       \n",
    "# if input number is less than\n",
    "# or equal to 1, it is not prime\n"
   ]
  },
  {
   "cell_type": "markdown",
   "metadata": {},
   "source": [
    "# Program to find fibonacci series"
   ]
  },
  {
   "cell_type": "code",
   "execution_count": 61,
   "metadata": {},
   "outputs": [
    {
     "name": "stdout",
     "output_type": "stream",
     "text": [
      "number of terms:19\n",
      "0\n",
      "1\n",
      "1\n",
      "2\n",
      "3\n",
      "5\n",
      "8\n",
      "13\n",
      "21\n",
      "34\n",
      "55\n",
      "89\n",
      "144\n",
      "233\n",
      "377\n",
      "610\n",
      "987\n",
      "1597\n",
      "2584\n"
     ]
    }
   ],
   "source": [
    "nterm = int(input(\"number of terms:\"))\n",
    "n1 = 0\n",
    "n2 = 1\n",
    "count = 0\n",
    "\n",
    "while count<nterm:\n",
    "    print(n1)\n",
    "    nth = n1+n2\n",
    "    n1 = n2\n",
    "    n2 =nth\n",
    "    count+=1"
   ]
  },
  {
   "cell_type": "markdown",
   "metadata": {},
   "source": [
    "# Program to find perfect square"
   ]
  },
  {
   "cell_type": "code",
   "execution_count": 64,
   "metadata": {},
   "outputs": [],
   "source": [
    "import math\n",
    "\n",
    "def perfectsqr(x):\n",
    "    s = int(math.sqrt(x))\n",
    "    return s*s ==x"
   ]
  },
  {
   "cell_type": "code",
   "execution_count": 67,
   "metadata": {},
   "outputs": [
    {
     "data": {
      "text/plain": [
       "False"
      ]
     },
     "execution_count": 67,
     "metadata": {},
     "output_type": "execute_result"
    }
   ],
   "source": [
    "perfectsqr(78)"
   ]
  },
  {
   "cell_type": "markdown",
   "metadata": {},
   "source": [
    "# Program to find wether given number is fibonacci or not"
   ]
  },
  {
   "cell_type": "code",
   "execution_count": 69,
   "metadata": {},
   "outputs": [],
   "source": [
    "def isfib(num):\n",
    "    return perfectsqr(5*num*num+4) or perfectsqr(5*num*num-4)"
   ]
  },
  {
   "cell_type": "code",
   "execution_count": 72,
   "metadata": {},
   "outputs": [
    {
     "data": {
      "text/plain": [
       "True"
      ]
     },
     "execution_count": 72,
     "metadata": {},
     "output_type": "execute_result"
    }
   ],
   "source": [
    "isfib(2584)"
   ]
  },
  {
   "cell_type": "markdown",
   "metadata": {},
   "source": [
    "# Program to find fibonacci numbers in given range"
   ]
  },
  {
   "cell_type": "code",
   "execution_count": 74,
   "metadata": {},
   "outputs": [
    {
     "name": "stdout",
     "output_type": "stream",
     "text": [
      "1 is fibonacci number\n",
      "2 is fibonacci number\n",
      "3 is fibonacci number\n",
      "4 is not a fibonacci number\n",
      "5 is fibonacci number\n",
      "6 is not a fibonacci number\n",
      "7 is not a fibonacci number\n",
      "8 is fibonacci number\n",
      "9 is not a fibonacci number\n",
      "10 is not a fibonacci number\n",
      "11 is not a fibonacci number\n",
      "12 is not a fibonacci number\n",
      "13 is fibonacci number\n",
      "14 is not a fibonacci number\n"
     ]
    }
   ],
   "source": [
    "for i in range (1,15):\n",
    "    if isfib(i)== True:\n",
    "        print(i, \"is fibonacci number\")\n",
    "    else:\n",
    "        print(i, \"is not a fibonacci number\")"
   ]
  },
  {
   "cell_type": "markdown",
   "metadata": {},
   "source": [
    "# Program to find ASCII value of character"
   ]
  },
  {
   "cell_type": "code",
   "execution_count": 83,
   "metadata": {},
   "outputs": [
    {
     "name": "stdout",
     "output_type": "stream",
     "text": [
      "ASCII value of k is 107\n"
     ]
    }
   ],
   "source": [
    "c = 'k'\n",
    "print(\"ASCII value of \"+c+\" is\",ord(c))"
   ]
  },
  {
   "cell_type": "markdown",
   "metadata": {},
   "source": [
    "# Program to find sum of squares of natural numbers"
   ]
  },
  {
   "cell_type": "code",
   "execution_count": 85,
   "metadata": {},
   "outputs": [
    {
     "name": "stdout",
     "output_type": "stream",
     "text": [
      "5\n"
     ]
    }
   ],
   "source": [
    "n =2\n",
    "sm =0\n",
    "for i in range (1,n+1):\n",
    "    sm = sm + (i*i)\n",
    "print(sm)"
   ]
  },
  {
   "cell_type": "markdown",
   "metadata": {},
   "source": [
    "# Program to find sum of cubes of natural numbers"
   ]
  },
  {
   "cell_type": "code",
   "execution_count": 87,
   "metadata": {},
   "outputs": [
    {
     "name": "stdout",
     "output_type": "stream",
     "text": [
      "225\n"
     ]
    }
   ],
   "source": [
    "n =5\n",
    "sm =0\n",
    "for i in range (1,n+1):\n",
    "    sm = sm + (i**3)\n",
    "print(sm)"
   ]
  },
  {
   "cell_type": "markdown",
   "metadata": {},
   "source": [
    "# Program to find sum of Array"
   ]
  },
  {
   "cell_type": "code",
   "execution_count": 115,
   "metadata": {},
   "outputs": [
    {
     "name": "stdout",
     "output_type": "stream",
     "text": [
      "[1, 2, 3, 4, 6]\n",
      "16\n"
     ]
    }
   ],
   "source": [
    "arr = [1,2,3,4,6]\n",
    "n = len(arr)\n",
    "print(arr)\n",
    "sm = 0\n",
    "for i in range (0,n):\n",
    "    sm = sm +arr[i]\n",
    "print(sm)    "
   ]
  },
  {
   "cell_type": "markdown",
   "metadata": {},
   "source": [
    "# Program to find largest elements in an Array"
   ]
  },
  {
   "cell_type": "code",
   "execution_count": 129,
   "metadata": {},
   "outputs": [
    {
     "name": "stdout",
     "output_type": "stream",
     "text": [
      "5\n",
      "388\n"
     ]
    }
   ],
   "source": [
    "arr= [1,2,388,4,5]\n",
    "n = len(arr)\n",
    "print(n)\n",
    "maxx = arr[0]\n",
    "\n",
    "for i in range (1,n):\n",
    "    if arr[i]> maxx:\n",
    "        maxx = arr[i]\n",
    "print(maxx)"
   ]
  },
  {
   "cell_type": "markdown",
   "metadata": {},
   "source": [
    "# Program to swap 1st and last elements in a list"
   ]
  },
  {
   "cell_type": "code",
   "execution_count": 132,
   "metadata": {},
   "outputs": [
    {
     "name": "stdout",
     "output_type": "stream",
     "text": [
      "[9, 2, 3, 4, 8, 1]\n"
     ]
    }
   ],
   "source": [
    "ls = [1, 2, 3, 4,8,9]\n",
    "a = len(ls)\n",
    "temp = ls[0]\n",
    "ls[0] = ls[-1]\n",
    "ls[-1] = temp\n",
    "print(ls)"
   ]
  },
  {
   "cell_type": "markdown",
   "metadata": {},
   "source": [
    "# Program to swap 2 elements in a list"
   ]
  },
  {
   "cell_type": "code",
   "execution_count": 134,
   "metadata": {},
   "outputs": [],
   "source": [
    "def swapls(ls,pos1,pos2):\n",
    "    ls[pos1],ls[pos2] = ls[pos2],ls[pos1]\n",
    "    return ls"
   ]
  },
  {
   "cell_type": "code",
   "execution_count": 136,
   "metadata": {},
   "outputs": [
    {
     "data": {
      "text/plain": [
       "[1, 2, 7, 4, 6, 3]"
      ]
     },
     "execution_count": 136,
     "metadata": {},
     "output_type": "execute_result"
    }
   ],
   "source": [
    "swapls([1,2,3,4,6,7],2,5)"
   ]
  },
  {
   "cell_type": "markdown",
   "metadata": {},
   "source": [
    "# program to remove Nth occurrence of the given word"
   ]
  },
  {
   "cell_type": "code",
   "execution_count": 147,
   "metadata": {},
   "outputs": [
    {
     "name": "stdout",
     "output_type": "stream",
     "text": [
      "['hello', 'hiee']\n"
     ]
    }
   ],
   "source": [
    "lst = [\"hello\",\"hiee\",\"hello\"]\n",
    "newList = []\n",
    "count = 0\n",
    "for i in lst: \n",
    "        if(i == \"hello\"): \n",
    "            count = count + 1\n",
    "            if(count != 2): \n",
    "                newList.append(i) \n",
    "        else: \n",
    "            newList.append(i) \n",
    "              \n",
    "lst = newList \n",
    "print(newList)"
   ]
  },
  {
   "cell_type": "markdown",
   "metadata": {},
   "source": [
    "# Program to find lenght of the list by using Naive and len() function"
   ]
  },
  {
   "cell_type": "code",
   "execution_count": 152,
   "metadata": {},
   "outputs": [
    {
     "name": "stdout",
     "output_type": "stream",
     "text": [
      "lenght of the list is : 7\n",
      "lenght of the list is : 8\n"
     ]
    }
   ],
   "source": [
    "lst = [1,2,3,4,5,6,7]\n",
    "count = 0\n",
    "\n",
    "for i in lst:\n",
    "    count = count+1\n",
    "print(\"lenght of the list is :\",count)\n",
    "\n",
    "lst = [1,2,3,4,5,6,'a','hello']\n",
    "print(\"lenght of the list is :\",len(lst))"
   ]
  },
  {
   "cell_type": "markdown",
   "metadata": {},
   "source": [
    "# Program to find wether given element exist in a list"
   ]
  },
  {
   "cell_type": "code",
   "execution_count": 159,
   "metadata": {},
   "outputs": [
    {
     "name": "stdout",
     "output_type": "stream",
     "text": [
      "it does not exist\n"
     ]
    }
   ],
   "source": [
    "lst = [1,2,3,4,5,6,7]\n",
    "a=8\n",
    "    \n",
    "if (a in lst):\n",
    "    print(\"yes it exist\")\n",
    "else:\n",
    "    print(\"it does not exist\")\n",
    "\n",
    "        \n",
    "        \n",
    "    "
   ]
  },
  {
   "cell_type": "markdown",
   "metadata": {},
   "source": [
    "# clearing list "
   ]
  },
  {
   "cell_type": "code",
   "execution_count": 160,
   "metadata": {},
   "outputs": [
    {
     "name": "stdout",
     "output_type": "stream",
     "text": [
      "[1, 2, 3, 4]\n",
      "None\n"
     ]
    }
   ],
   "source": [
    "lst = [1,2,3,4]\n",
    "print(lst)\n",
    "clrlst = lst.clear()\n",
    "print(clrlst)"
   ]
  },
  {
   "cell_type": "markdown",
   "metadata": {},
   "source": [
    "# Reversing of a list"
   ]
  },
  {
   "cell_type": "code",
   "execution_count": 163,
   "metadata": {},
   "outputs": [
    {
     "name": "stdout",
     "output_type": "stream",
     "text": [
      "[7, 6, 5, 4, 3, 2, 1]\n",
      "[7, 6, 5, 4, 3, 2, 1]\n"
     ]
    }
   ],
   "source": [
    "lst = [1,2,3,4,5,6,7]\n",
    "rev = lst.reverse()\n",
    "print(lst)\n",
    "\n",
    "lst1 = [1,2,3,4,5,6,7]\n",
    "rev1 = lst1[::-1]\n",
    "print(rev1)"
   ]
  },
  {
   "cell_type": "markdown",
   "metadata": {},
   "source": [
    "# cloning or copying list"
   ]
  },
  {
   "cell_type": "code",
   "execution_count": 166,
   "metadata": {},
   "outputs": [
    {
     "name": "stdout",
     "output_type": "stream",
     "text": [
      "[1, 2, 3, 4, 5, 6, 7]\n"
     ]
    }
   ],
   "source": [
    "lst = [1,2,3,4,5,6,7]\n",
    "cplst = []\n",
    "cplst = lst\n",
    "print(cplst)"
   ]
  },
  {
   "cell_type": "markdown",
   "metadata": {},
   "source": [
    "# program to count occurrence of the an element in given list"
   ]
  },
  {
   "cell_type": "code",
   "execution_count": 169,
   "metadata": {},
   "outputs": [
    {
     "name": "stdout",
     "output_type": "stream",
     "text": [
      "3\n"
     ]
    }
   ],
   "source": [
    "lst = [1,2,3,4,4,4,5,6,7]\n",
    "x = 4\n",
    "count = 0\n",
    "\n",
    "for i in lst:\n",
    "    if (i==x):\n",
    "        count = count+1\n",
    "print(count)\n",
    "    \n",
    "    \n",
    "    "
   ]
  },
  {
   "cell_type": "markdown",
   "metadata": {},
   "source": [
    "# Program to find sum of list"
   ]
  },
  {
   "cell_type": "code",
   "execution_count": 172,
   "metadata": {},
   "outputs": [
    {
     "name": "stdout",
     "output_type": "stream",
     "text": [
      "6\n"
     ]
    }
   ],
   "source": [
    "lst = [1,2,3]\n",
    "sm =0\n",
    "for i in range(0,len(lst)):\n",
    "    sm = sm+lst[i]\n",
    "print(sm)"
   ]
  },
  {
   "cell_type": "markdown",
   "metadata": {},
   "source": [
    "# Program to Multiply all numbers in the list"
   ]
  },
  {
   "cell_type": "code",
   "execution_count": 178,
   "metadata": {},
   "outputs": [
    {
     "name": "stdout",
     "output_type": "stream",
     "text": [
      "42\n"
     ]
    }
   ],
   "source": [
    "lst = [1,2,3,7]\n",
    "mul =1\n",
    "for i in range(0,len(lst)):\n",
    "    mul = mul*lst[i]\n",
    "print(mul)"
   ]
  },
  {
   "cell_type": "markdown",
   "metadata": {},
   "source": [
    "# Smallest number in a list"
   ]
  },
  {
   "cell_type": "code",
   "execution_count": 184,
   "metadata": {},
   "outputs": [
    {
     "name": "stdout",
     "output_type": "stream",
     "text": [
      "smallest number is: 0\n"
     ]
    }
   ],
   "source": [
    "lst = [1,2,3,7,0]\n",
    "minn = lst[0]\n",
    "n = len(lst)\n",
    "\n",
    "for i in range(0,n):\n",
    "    if (lst[i]<minn):\n",
    "        minn = lst[i]\n",
    "print('smallest number is:',minn)\n",
    "\n"
   ]
  },
  {
   "cell_type": "markdown",
   "metadata": {},
   "source": [
    "# Largest number in a list"
   ]
  },
  {
   "cell_type": "code",
   "execution_count": 186,
   "metadata": {},
   "outputs": [
    {
     "name": "stdout",
     "output_type": "stream",
     "text": [
      "largest number is: 7\n"
     ]
    }
   ],
   "source": [
    "lst = [1,2,3,7,0]\n",
    "maxx = lst[0]\n",
    "n = len(lst)\n",
    "\n",
    "for i in range(0,n):\n",
    "    if (lst[i]>maxx):\n",
    "        maxx = lst[i]\n",
    "print('largest number is:',maxx)"
   ]
  },
  {
   "cell_type": "markdown",
   "metadata": {},
   "source": [
    "# Program to find 2nd largest number in a list"
   ]
  },
  {
   "cell_type": "code",
   "execution_count": 191,
   "metadata": {},
   "outputs": [
    {
     "name": "stdout",
     "output_type": "stream",
     "text": [
      "3\n"
     ]
    }
   ],
   "source": [
    "lst = [1,2,3,7,0]\n",
    "lst.sort()\n",
    "print(lst[-2])"
   ]
  },
  {
   "cell_type": "markdown",
   "metadata": {},
   "source": [
    "# Program to find N largest number in a list"
   ]
  },
  {
   "cell_type": "code",
   "execution_count": 1,
   "metadata": {},
   "outputs": [
    {
     "name": "stdout",
     "output_type": "stream",
     "text": [
      "[85, 41]\n"
     ]
    }
   ],
   "source": [
    "def Nmaxelements(list1, N): \n",
    "    final_list = [] \n",
    "  \n",
    "    for i in range(0, N):  \n",
    "        max1 = 0\n",
    "          \n",
    "        for j in range(len(list1)):      \n",
    "            if list1[j] > max1: \n",
    "                max1 = list1[j]; \n",
    "                  \n",
    "        list1.remove(max1); \n",
    "        final_list.append(max1) \n",
    "          \n",
    "    print(final_list) \n",
    "  \n",
    "# Driver code \n",
    "list1 = [2, 6, 41, 85, 0, 3, 7, 6, 10] \n",
    "N = 2\n",
    "  \n",
    "# Calling the function \n",
    "Nmaxelements(list1, N) "
   ]
  },
  {
   "cell_type": "markdown",
   "metadata": {},
   "source": [
    "# Program to print even number in a list"
   ]
  },
  {
   "cell_type": "code",
   "execution_count": 11,
   "metadata": {},
   "outputs": [
    {
     "name": "stdout",
     "output_type": "stream",
     "text": [
      "[2, 0, 4, 8, 16]\n"
     ]
    }
   ],
   "source": [
    "lst = [1,2,3,7,0,4,8,16]\n",
    "evnlst = []\n",
    "for i in lst:\n",
    "    if (i%2==0):  \n",
    "        evnlst.append(i)\n",
    "print(evnlst)\n"
   ]
  },
  {
   "cell_type": "markdown",
   "metadata": {},
   "source": [
    "# Program to print odd number in a list"
   ]
  },
  {
   "cell_type": "code",
   "execution_count": 13,
   "metadata": {},
   "outputs": [
    {
     "name": "stdout",
     "output_type": "stream",
     "text": [
      "[1, 3, 7, 17]\n"
     ]
    }
   ],
   "source": [
    "lst = [1,2,3,7,0,4,8,16,17]\n",
    "oddlst = []\n",
    "for i in lst:\n",
    "    if (i%2!=0):  \n",
    "        oddlst.append(i)\n",
    "print(oddlst)"
   ]
  },
  {
   "cell_type": "markdown",
   "metadata": {},
   "source": [
    "# Program to print all even numbers in a range"
   ]
  },
  {
   "cell_type": "code",
   "execution_count": 25,
   "metadata": {},
   "outputs": [
    {
     "name": "stdout",
     "output_type": "stream",
     "text": [
      "[1, 4]\n"
     ]
    }
   ],
   "source": [
    "lst = [1,2,3,7,0,4,8,16]\n",
    "n=4\n",
    "evnlst = []\n",
    "for i in range (0,n+1):\n",
    "    if (lst[i]%2==0):  \n",
    "        evnlst.append(i)\n",
    "print(evnlst)"
   ]
  },
  {
   "cell_type": "markdown",
   "metadata": {},
   "source": [
    "# Program to print all odd numbers in a range"
   ]
  },
  {
   "cell_type": "code",
   "execution_count": 24,
   "metadata": {},
   "outputs": [
    {
     "name": "stdout",
     "output_type": "stream",
     "text": [
      "[0, 2, 3]\n"
     ]
    }
   ],
   "source": [
    "lst = [1,2,3,7,0,4,8,16]\n",
    "n=5\n",
    "oddlst = []\n",
    "for i in range (0,n+1):\n",
    "    if (lst[i]%2!=0):  \n",
    "        oddlst.append(i)\n",
    "print(oddlst)"
   ]
  },
  {
   "cell_type": "markdown",
   "metadata": {},
   "source": [
    "# Program to count even and odd count in a list"
   ]
  },
  {
   "cell_type": "code",
   "execution_count": 27,
   "metadata": {},
   "outputs": [
    {
     "name": "stdout",
     "output_type": "stream",
     "text": [
      "even counts are 5\n",
      "odd counts are 3\n"
     ]
    }
   ],
   "source": [
    "lst = [1,2,3,7,0,4,8,16]\n",
    "evncnt = 0\n",
    "oddcnt = 0\n",
    "\n",
    "for i in lst:\n",
    "    if (i%2==0):\n",
    "        evncnt += 1\n",
    "    else:\n",
    "        oddcnt += 1\n",
    "        \n",
    "print(\"even counts are\",evncnt)\n",
    "print(\"odd counts are\",oddcnt)\n",
    "\n"
   ]
  },
  {
   "cell_type": "markdown",
   "metadata": {},
   "source": [
    "# Program to print positive number in a list"
   ]
  },
  {
   "cell_type": "code",
   "execution_count": 30,
   "metadata": {},
   "outputs": [
    {
     "name": "stdout",
     "output_type": "stream",
     "text": [
      "[1, 2, 3, 7, 4, 8, 16]\n"
     ]
    }
   ],
   "source": [
    "lst = [1,2,3,7,4,8,16,-15,-6]\n",
    "\n",
    "pos = []\n",
    "for i in lst:\n",
    "    if (i>0):\n",
    "        pos.append(i)\n",
    "        \n",
    "print(pos)"
   ]
  },
  {
   "cell_type": "markdown",
   "metadata": {},
   "source": [
    "# Program to print negative number in a list"
   ]
  },
  {
   "cell_type": "code",
   "execution_count": 31,
   "metadata": {},
   "outputs": [
    {
     "name": "stdout",
     "output_type": "stream",
     "text": [
      "[-15, -6]\n"
     ]
    }
   ],
   "source": [
    "lst = [1,2,3,7,4,8,16,-15,-6]\n",
    "\n",
    "neg = []\n",
    "for i in lst:\n",
    "    if (i<0):\n",
    "        neg.append(i)\n",
    "        \n",
    "print(neg)"
   ]
  },
  {
   "cell_type": "markdown",
   "metadata": {},
   "source": [
    "# Program to print positive number in a range\n"
   ]
  },
  {
   "cell_type": "code",
   "execution_count": 34,
   "metadata": {},
   "outputs": [
    {
     "name": "stdout",
     "output_type": "stream",
     "text": [
      "[0, 1, 2, 3, 4]\n"
     ]
    }
   ],
   "source": [
    "\n",
    "pos = []\n",
    "for i in range (-4,5):\n",
    "    if (i>=0):  \n",
    "        pos.append(i)\n",
    "print(pos)"
   ]
  },
  {
   "cell_type": "markdown",
   "metadata": {},
   "source": [
    "# Program to print Negative number in a range"
   ]
  },
  {
   "cell_type": "code",
   "execution_count": 35,
   "metadata": {},
   "outputs": [
    {
     "name": "stdout",
     "output_type": "stream",
     "text": [
      "[-4, -3, -2, -1, 0]\n"
     ]
    }
   ],
   "source": [
    "neg = []\n",
    "for i in range (-4,5):\n",
    "    if (i<=0):  \n",
    "        neg.append(i)\n",
    "print(neg)"
   ]
  },
  {
   "cell_type": "markdown",
   "metadata": {},
   "source": [
    "# Program to count positive and negative number in a list"
   ]
  },
  {
   "cell_type": "code",
   "execution_count": 36,
   "metadata": {},
   "outputs": [
    {
     "name": "stdout",
     "output_type": "stream",
     "text": [
      "positive counts are 7\n",
      "Negative counts are 2\n"
     ]
    }
   ],
   "source": [
    "lst = [1,2,3,7,4,8,16,-15,-6]\n",
    "\n",
    "poscnt = 0\n",
    "negcnt = 0\n",
    "\n",
    "for i in lst:\n",
    "    if (i>0):\n",
    "        poscnt += 1\n",
    "    else:\n",
    "        negcnt += 1\n",
    "        \n",
    "print(\"positive counts are\",poscnt)\n",
    "print(\"Negative counts are\",negcnt)"
   ]
  },
  {
   "cell_type": "markdown",
   "metadata": {},
   "source": [
    "# Program to remove elements from a list"
   ]
  },
  {
   "cell_type": "code",
   "execution_count": 38,
   "metadata": {},
   "outputs": [
    {
     "name": "stdout",
     "output_type": "stream",
     "text": [
      "[7, 4, 8, 16, -15, -6]\n"
     ]
    }
   ],
   "source": [
    "lst = [1,2,3,7,4,8,16,-15,-6]\n",
    "un = [1,2,3]\n",
    "newls = []\n",
    "for i in lst:\n",
    "    if i not in un:\n",
    "        newls.append(i)\n",
    "        \n",
    "print(newls)"
   ]
  },
  {
   "cell_type": "markdown",
   "metadata": {},
   "source": [
    "# Program to remove empty tuple"
   ]
  },
  {
   "cell_type": "code",
   "execution_count": 43,
   "metadata": {},
   "outputs": [
    {
     "name": "stdout",
     "output_type": "stream",
     "text": [
      "<filter object at 0x108321588>\n",
      "[('ram', '15', '8'), ('laxman', 'sita'), ('krishna', 'akbar', '45'), ('', '')]\n"
     ]
    }
   ],
   "source": [
    "tuples = [(),('ram','15','8'),(),('laxman','sita')]\n",
    "for i in tuples:\n",
    "    tuples = filter(None,tuples)\n",
    "print(tuples)\n",
    "\n",
    "\n",
    "def Remove(tuples): \n",
    "    tuples = [t for t in tuples if t] \n",
    "    return tuples \n",
    "  \n",
    "# Driver Code \n",
    "tuples = [(), ('ram','15','8'), (), ('laxman', 'sita'),  \n",
    "          ('krishna', 'akbar', '45'), ('',''),()] \n",
    "print(Remove(tuples))"
   ]
  },
  {
   "cell_type": "markdown",
   "metadata": {},
   "source": [
    "# Program to print duplicates from a list of integers"
   ]
  },
  {
   "cell_type": "code",
   "execution_count": 55,
   "metadata": {},
   "outputs": [
    {
     "name": "stdout",
     "output_type": "stream",
     "text": [
      "[20, 30, -20, 60]\n"
     ]
    }
   ],
   "source": [
    "def Repeat(x): \n",
    "    _size = len(x) \n",
    "    repeated = [] \n",
    "    for i in range(_size): \n",
    "        k = i + 1\n",
    "        for j in range(k, _size): \n",
    "            if x[i] == x[j] and x[i] not in repeated: \n",
    "                repeated.append(x[i]) \n",
    "    return repeated \n",
    "  \n",
    "# Driver Code \n",
    "list1 = [10, 20, 30, 20, 20, 30, 40,  \n",
    "         50, -20, 60, 60, -20, -20] \n",
    "print (Repeat(list1)) "
   ]
  },
  {
   "cell_type": "code",
   "execution_count": 52,
   "metadata": {},
   "outputs": [
    {
     "name": "stdout",
     "output_type": "stream",
     "text": [
      "[40, 10, -20, 50, 20, 60, 30]\n"
     ]
    }
   ],
   "source": [
    "list1 = [10, 20, 30, 20, 20, 30, 40,  \n",
    "         50, -20, 60, 60, -20, -20] \n",
    "list2 = list(set(list1))\n",
    "print(list2)"
   ]
  },
  {
   "cell_type": "markdown",
   "metadata": {},
   "source": [
    "# Break a list into chunks of size N"
   ]
  },
  {
   "cell_type": "code",
   "execution_count": 56,
   "metadata": {},
   "outputs": [
    {
     "name": "stdout",
     "output_type": "stream",
     "text": [
      "[['geeks', 'for', 'geeks', 'like', 'geeky'], ['nerdy', 'geek', 'love', 'questions', 'words'], ['life']]\n"
     ]
    }
   ],
   "source": [
    "my_list = ['geeks', 'for', 'geeks', 'like', \n",
    "           'geeky','nerdy', 'geek', 'love', \n",
    "               'questions','words', 'life'] \n",
    "  \n",
    "# Yield successive n-sized \n",
    "# chunks from l. \n",
    "def divide_chunks(l, n): \n",
    "      \n",
    "    # looping till length l \n",
    "    for i in range(0, len(l), n):  \n",
    "        yield l[i:i + n] \n",
    "  \n",
    "# How many elements each \n",
    "# list should have \n",
    "n = 5\n",
    "  \n",
    "x = list(divide_chunks(my_list, n)) \n",
    "print (x) "
   ]
  },
  {
   "cell_type": "markdown",
   "metadata": {},
   "source": [
    "# Sort the values of first list using second list"
   ]
  },
  {
   "cell_type": "code",
   "execution_count": 59,
   "metadata": {},
   "outputs": [
    {
     "name": "stdout",
     "output_type": "stream",
     "text": [
      "[0, 1, 1, 0, 1, 2, 2, 0, 1]\n"
     ]
    }
   ],
   "source": [
    "x = [\"a\", \"b\", \"c\", \"d\", \"e\", \"f\", \"g\", \"h\", \"i\"] \n",
    "y = [ 0,   1,   1,    0,   1,   2,   2,   0,   1] \n",
    "  \n",
    "zipped_pairs = zip(x, y) \n",
    "  \n",
    "z = [x for _, x in sorted(zipped_pairs)] \n",
    "      \n",
    "print(z) "
   ]
  },
  {
   "cell_type": "code",
   "execution_count": 58,
   "metadata": {},
   "outputs": [
    {
     "name": "stdout",
     "output_type": "stream",
     "text": [
      "['a', 'd', 'h', 'b', 'c', 'e', 'i', 'f', 'g']\n"
     ]
    }
   ],
   "source": [
    "def sort_list(list1, list2): \n",
    "  \n",
    "    zipped_pairs = zip(list2, list1) \n",
    "  \n",
    "    z = [x for _, x in sorted(zipped_pairs)] \n",
    "      \n",
    "    return z \n",
    "      \n",
    "  \n",
    "# driver code \n",
    "x = [\"a\", \"b\", \"c\", \"d\", \"e\", \"f\", \"g\", \"h\", \"i\"] \n",
    "y = [ 0,   1,   1,    0,   1,   2,   2,   0,   1] \n",
    "  \n",
    "print(sort_list(x, y)) "
   ]
  },
  {
   "cell_type": "markdown",
   "metadata": {},
   "source": [
    "# program to check if a string is palindrome or not"
   ]
  },
  {
   "cell_type": "code",
   "execution_count": 62,
   "metadata": {},
   "outputs": [
    {
     "name": "stdout",
     "output_type": "stream",
     "text": [
      "its not palindrome\n"
     ]
    }
   ],
   "source": [
    "s = \"kunal\"\n",
    "s1 = s[::-1]\n",
    "\n",
    "if (s==s1):\n",
    "    print(\"yes its palindrome\")\n",
    "else:\n",
    "    print(\"its not palindrome\")"
   ]
  },
  {
   "cell_type": "markdown",
   "metadata": {},
   "source": [
    "# Reverse words in a given String\n"
   ]
  },
  {
   "cell_type": "code",
   "execution_count": 63,
   "metadata": {},
   "outputs": [
    {
     "name": "stdout",
     "output_type": "stream",
     "text": [
      "you are how hello\n"
     ]
    }
   ],
   "source": [
    "s = \"hello how are you\"\n",
    "ipwords = s.split(\" \")\n",
    "ipwords = ipwords[-1::-1]\n",
    "op = \" \".join(ipwords)\n",
    "print(op)"
   ]
  },
  {
   "cell_type": "markdown",
   "metadata": {},
   "source": [
    "# Ways to remove i’th character from string in Python"
   ]
  },
  {
   "cell_type": "code",
   "execution_count": 65,
   "metadata": {},
   "outputs": [
    {
     "name": "stdout",
     "output_type": "stream",
     "text": [
      "paindrome\n"
     ]
    }
   ],
   "source": [
    "s = \"palindrome\"\n",
    "n = len(s)\n",
    "s1 = \"\"\n",
    "\n",
    "for i in range(0,n):\n",
    "    if (i!=2):\n",
    "        s1 = s1+s[i]\n",
    "print(s1)"
   ]
  },
  {
   "cell_type": "markdown",
   "metadata": {},
   "source": [
    "# Check if a Substring is Present in a Given String"
   ]
  },
  {
   "cell_type": "code",
   "execution_count": 71,
   "metadata": {},
   "outputs": [
    {
     "name": "stdout",
     "output_type": "stream",
     "text": [
      "yes\n"
     ]
    }
   ],
   "source": [
    "s = \"geeks for geeks\"\n",
    "s1 = \"geek\"\n",
    "\n",
    "\n",
    "if (s.find(s1) == -1):\n",
    "    print(\"no\")\n",
    "else:\n",
    "    print(\"yes\")"
   ]
  },
  {
   "cell_type": "markdown",
   "metadata": {},
   "source": [
    "# program to print even length words in a string"
   ]
  },
  {
   "cell_type": "code",
   "execution_count": 76,
   "metadata": {},
   "outputs": [
    {
     "name": "stdout",
     "output_type": "stream",
     "text": [
      "['my', 'name', 'is']\n"
     ]
    }
   ],
   "source": [
    "s = \"hello my name is kunal\"\n",
    "s1 = s.split(\" \")\n",
    "evnls = []\n",
    "for i in s1:\n",
    "    if (len(i)%2==0):\n",
    "        evnls.append(i)\n",
    "print(evnls)"
   ]
  },
  {
   "cell_type": "markdown",
   "metadata": {},
   "source": [
    "# Program to accept the strings which contains all vowels"
   ]
  },
  {
   "cell_type": "code",
   "execution_count": 81,
   "metadata": {},
   "outputs": [
    {
     "name": "stdout",
     "output_type": "stream",
     "text": [
      "accepted\n"
     ]
    }
   ],
   "source": [
    "s = \"kunaleio\"\n",
    "vowels = set(\"aeiou\")\n",
    "s1 = ([])\n",
    "\n",
    "for i in s:\n",
    "    if i in vowels:\n",
    "        s1.append(i)\n",
    "    else:\n",
    "        pass\n",
    "if len(s1)==len(vowels):\n",
    "    print(\"accepted\")\n",
    "else:\n",
    "    print(\"not accepted\")"
   ]
  },
  {
   "cell_type": "markdown",
   "metadata": {},
   "source": [
    "# Count the Number of matching characters in a pair of string"
   ]
  },
  {
   "cell_type": "code",
   "execution_count": 2,
   "metadata": {},
   "outputs": [
    {
     "name": "stdout",
     "output_type": "stream",
     "text": [
      "{'k', 'a'}\n",
      "2\n"
     ]
    }
   ],
   "source": [
    "s1 = \"kunal\"\n",
    "s2 = \"kkshriwas\"\n",
    "\n",
    "l1 = set(s1)\n",
    "l2 = set(s2)\n",
    "\n",
    "matched = l1&l2\n",
    "print(matched)\n",
    "print(len(matched))"
   ]
  },
  {
   "cell_type": "markdown",
   "metadata": {},
   "source": [
    "# program to count number of vowels using sets in given string "
   ]
  },
  {
   "cell_type": "code",
   "execution_count": 5,
   "metadata": {},
   "outputs": [
    {
     "name": "stdout",
     "output_type": "stream",
     "text": [
      "{'a', 'u'}\n",
      "2\n"
     ]
    }
   ],
   "source": [
    "s1 = \"kunal\"\n",
    "s2 = \"aeiou\"\n",
    "\n",
    "l1 = set(s1)\n",
    "l2 = set(s2)\n",
    "\n",
    "matched = l1&l2\n",
    "print(matched)\n",
    "print(len(matched))"
   ]
  },
  {
   "cell_type": "markdown",
   "metadata": {},
   "source": [
    "# Remove all duplicates from a given string"
   ]
  },
  {
   "cell_type": "code",
   "execution_count": 12,
   "metadata": {},
   "outputs": [
    {
     "name": "stdout",
     "output_type": "stream",
     "text": [
      "kfgorse\n",
      "geksfor\n"
     ]
    }
   ],
   "source": [
    "from collections import OrderedDict \n",
    "s = \"geeksforgeeks\"\n",
    "s1 = set(s)\n",
    "s2 = \"\".join(s1)\n",
    "print(s2)\n",
    "\n",
    "s3 = \"\".join(OrderedDict.fromkeys(s))\n",
    "print(s3)"
   ]
  },
  {
   "cell_type": "markdown",
   "metadata": {},
   "source": [
    "# Program to check if a string contains any special character"
   ]
  },
  {
   "cell_type": "code",
   "execution_count": 14,
   "metadata": {},
   "outputs": [
    {
     "name": "stdout",
     "output_type": "stream",
     "text": [
      "not accepted\n"
     ]
    }
   ],
   "source": [
    "import re \n",
    "s = \"kunal@\"\n",
    "regex = re.compile('[@_!#$%^&*()<>?/\\|}{~:]')\n",
    "\n",
    "if regex.search(s)==None:\n",
    "    print(\"Accepted\")\n",
    "    \n",
    "else:\n",
    "    print(\"not accepted\")\n"
   ]
  },
  {
   "cell_type": "markdown",
   "metadata": {},
   "source": [
    "# Find words which are greater than given length k"
   ]
  },
  {
   "cell_type": "code",
   "execution_count": 18,
   "metadata": {},
   "outputs": [
    {
     "name": "stdout",
     "output_type": "stream",
     "text": [
      "['hello', 'kunal']\n"
     ]
    }
   ],
   "source": [
    "st = \"hello kunal how are you\"\n",
    "st1 = []\n",
    "n= 5\n",
    "txt = st.split(\" \")\n",
    "\n",
    "for i in txt:\n",
    "    if len(i)==n:\n",
    "        st1.append(i)\n",
    "        \n",
    "print(st1)"
   ]
  },
  {
   "cell_type": "markdown",
   "metadata": {},
   "source": [
    "# Python program for removing i-th character from a string"
   ]
  },
  {
   "cell_type": "code",
   "execution_count": 23,
   "metadata": {},
   "outputs": [
    {
     "name": "stdout",
     "output_type": "stream",
     "text": [
      "kual\n"
     ]
    }
   ],
   "source": [
    "st = \"kunal\"\n",
    "n=2\n",
    "a = st[:n]\n",
    "b = st[n+1:]\n",
    "\n",
    "c = a+b\n",
    "print(c)    "
   ]
  },
  {
   "cell_type": "markdown",
   "metadata": {},
   "source": [
    "# Check if a given string is binary string or not "
   ]
  },
  {
   "cell_type": "code",
   "execution_count": 25,
   "metadata": {},
   "outputs": [
    {
     "name": "stdout",
     "output_type": "stream",
     "text": [
      "no\n"
     ]
    }
   ],
   "source": [
    "s=\"kunal01\"\n",
    "b = {'0','1'}\n",
    "\n",
    "if b==s or s=={'1'} or s=={'0'}:\n",
    "    print(\"yes\")\n",
    "else:\n",
    "    print(\"no\")"
   ]
  },
  {
   "cell_type": "markdown",
   "metadata": {},
   "source": [
    "# Permutation of a given string using inbuilt function"
   ]
  },
  {
   "cell_type": "code",
   "execution_count": 5,
   "metadata": {},
   "outputs": [
    {
     "name": "stdout",
     "output_type": "stream",
     "text": [
      "ABC\n",
      "ACB\n",
      "BAC\n",
      "BCA\n",
      "CAB\n",
      "CBA\n"
     ]
    }
   ],
   "source": [
    "from itertools import permutations \n",
    "lst = \"ABC\"\n",
    "permlist = permutations(lst)\n",
    "for i in permlist:\n",
    "    print(''.join(i))"
   ]
  },
  {
   "cell_type": "markdown",
   "metadata": {},
   "source": [
    "# DICTIONARY"
   ]
  },
  {
   "cell_type": "markdown",
   "metadata": {},
   "source": [
    "# Sort Python Dictionaries by Key or Value "
   ]
  },
  {
   "cell_type": "code",
   "execution_count": 1,
   "metadata": {},
   "outputs": [],
   "source": [
    "#1)Create a dictionary and display its keys alphabetically.\n",
    "#2)Display both the keys and values sorted in alphabetical order by the key.\n",
    "#3)Same as part (ii), but sorted in alphabetical order by the value."
   ]
  },
  {
   "cell_type": "code",
   "execution_count": 4,
   "metadata": {},
   "outputs": [
    {
     "name": "stdout",
     "output_type": "stream",
     "text": [
      "1 2 3 4 5 6 "
     ]
    }
   ],
   "source": [
    "key_value ={}     \n",
    "  \n",
    "# Initializing value  \n",
    "key_value[2] = 56       \n",
    "key_value[1] = 2 \n",
    "key_value[5] = 12 \n",
    "key_value[4] = 24\n",
    "key_value[6] = 18      \n",
    "key_value[3] = 323 \n",
    "\n",
    "for i in sorted(key_value.keys()):\n",
    "    print(i,end =  \" \")"
   ]
  },
  {
   "cell_type": "code",
   "execution_count": 8,
   "metadata": {},
   "outputs": [
    {
     "name": "stdout",
     "output_type": "stream",
     "text": [
      "(1, 2) (2, 56) (3, 323) (4, 24) (5, 12) (6, 18) "
     ]
    }
   ],
   "source": [
    "key_value ={}     \n",
    "  \n",
    "# Initializing value  \n",
    "key_value[2] = 56       \n",
    "key_value[1] = 2 \n",
    "key_value[5] = 12 \n",
    "key_value[4] = 24\n",
    "key_value[6] = 18      \n",
    "key_value[3] = 323 \n",
    "\n",
    "for i in sorted(key_value):\n",
    "    print((i,key_value[i]),end =  \" \")"
   ]
  },
  {
   "cell_type": "code",
   "execution_count": 17,
   "metadata": {},
   "outputs": [
    {
     "name": "stdout",
     "output_type": "stream",
     "text": [
      "[(1, 2), (5, 12), (6, 18), (4, 24), (2, 56), (3, 323)]\n"
     ]
    }
   ],
   "source": [
    "key_value ={}     \n",
    "  \n",
    "# Initializing value  \n",
    "key_value[2] = 56       \n",
    "key_value[1] = 2 \n",
    "key_value[5] = 12 \n",
    "key_value[4] = 24\n",
    "key_value[6] = 18      \n",
    "key_value[3] = 323 \n",
    "\n",
    "# Note that it will sort in lexicographical order \n",
    " # For mathematical way, change it to float \n",
    "print(sorted(key_value.items(), key = lambda kv:(kv[1], kv[0])))     "
   ]
  },
  {
   "cell_type": "markdown",
   "metadata": {},
   "source": [
    "# Handling missing keys in Python dictionaries"
   ]
  },
  {
   "cell_type": "code",
   "execution_count": 29,
   "metadata": {},
   "outputs": [
    {
     "name": "stdout",
     "output_type": "stream",
     "text": [
      "56\n"
     ]
    }
   ],
   "source": [
    "import collections\n",
    "key_value = collections.defaultdict(lambda:\"key not found\")\n",
    "\n",
    "key_value ={}     \n",
    "\n",
    "# Initializing value  \n",
    "key_value['a'] = 56       \n",
    "key_value['b'] = 2 \n",
    "\n",
    "\n",
    "\n",
    "print(key_value['a'])"
   ]
  },
  {
   "cell_type": "markdown",
   "metadata": {},
   "source": [
    "# Python dictionary with keys having multiple inputs"
   ]
  },
  {
   "cell_type": "code",
   "execution_count": 30,
   "metadata": {},
   "outputs": [
    {
     "name": "stdout",
     "output_type": "stream",
     "text": [
      "{(10, 20, 30): 0, (5, 2, 4): 3}\n"
     ]
    }
   ],
   "source": [
    "import random as rn \n",
    "  \n",
    "# creating an empty dictionary \n",
    "dict = {} \n",
    "  \n",
    "# Insert first triplet in dictionary \n",
    "x, y, z = 10, 20, 30\n",
    "dict[x, y, z] = x + y - z; \n",
    "  \n",
    "# Insert second triplet in dictionary \n",
    "x, y, z = 5, 2, 4\n",
    "dict[x, y, z] = x + y - z; \n",
    "  \n",
    "# print the dictionary \n",
    "print(dict) "
   ]
  },
  {
   "cell_type": "markdown",
   "metadata": {},
   "source": [
    "# Python program to find the sum of all items in a dictionary"
   ]
  },
  {
   "cell_type": "code",
   "execution_count": 32,
   "metadata": {},
   "outputs": [
    {
     "name": "stdout",
     "output_type": "stream",
     "text": [
      "600\n"
     ]
    }
   ],
   "source": [
    "dix = {'a': 100, 'b':200, 'c':300} \n",
    "sm = 0\n",
    "for i in dix:\n",
    "    sm = sm+dix[i]\n",
    "    \n",
    "print(sm)\n",
    "    "
   ]
  },
  {
   "cell_type": "markdown",
   "metadata": {},
   "source": [
    "# to remove a key from dictionary"
   ]
  },
  {
   "cell_type": "code",
   "execution_count": 37,
   "metadata": {},
   "outputs": [
    {
     "name": "stdout",
     "output_type": "stream",
     "text": [
      "{'b': 200}\n"
     ]
    }
   ],
   "source": [
    "dix = {'a': 100, 'b':200, 'c':300} \n",
    "del dix['c']\n",
    "dix.pop('a')\n",
    "print(dix)"
   ]
  },
  {
   "cell_type": "markdown",
   "metadata": {},
   "source": [
    "# Ways to sort list of dictionaries by values in Python – Using itemgetter"
   ]
  },
  {
   "cell_type": "code",
   "execution_count": 45,
   "metadata": {},
   "outputs": [
    {
     "name": "stdout",
     "output_type": "stream",
     "text": [
      "[{'name': 'Nikhil', 'age': 19}, {'name': 'Manjeet', 'age': 20}, {'name': 'Nandini', 'age': 30}]\n",
      "[{'name': 'Manjeet', 'age': 20}, {'name': 'Nandini', 'age': 30}, {'name': 'Nikhil', 'age': 19}]\n"
     ]
    }
   ],
   "source": [
    "from operator import itemgetter \n",
    "  \n",
    "# Initializing list of dictionaries \n",
    "lis = [{ \"name\" : \"Nandini\", \"age\" : 30},  \n",
    "{ \"name\" : \"Manjeet\", \"age\" : 20 }, \n",
    "{ \"name\" : \"Nikhil\" , \"age\" : 19 }] \n",
    "  \n",
    "# using sorted and itemgetter to print list sorted by age  \n",
    "print (sorted(lis, key=itemgetter('age')) )\n",
    "  \n",
    "#using lambda function\n",
    "print (sorted(lis, key=lambda i : i['name']) )\n",
    "\n"
   ]
  },
  {
   "cell_type": "markdown",
   "metadata": {},
   "source": [
    "# Merging two Dictionaries"
   ]
  },
  {
   "cell_type": "code",
   "execution_count": 52,
   "metadata": {},
   "outputs": [
    {
     "name": "stdout",
     "output_type": "stream",
     "text": [
      "{'name': 'Nandini', 'age': 30, 'a': 100, 'b': 200, 'c': 300}\n"
     ]
    }
   ],
   "source": [
    "dix = {'a': 100, 'b':200, 'c':300} \n",
    "lis = { \"name\" : \"Nandini\", \"age\" : 30}\n",
    "lis.update(dix)\n",
    "print(lis)"
   ]
  },
  {
   "cell_type": "markdown",
   "metadata": {},
   "source": [
    "# Program to create grade calculator in Python"
   ]
  },
  {
   "cell_type": "code",
   "execution_count": 6,
   "metadata": {},
   "outputs": [
    {
     "name": "stdout",
     "output_type": "stream",
     "text": [
      "Jack Frost\n",
      "======================================\n",
      "Average marks of Jack Frost is : 72.79 \n",
      "Letter Grade of Jack Frost is : C\n",
      "\n",
      "James Potter\n",
      "======================================\n",
      "Average marks of James Potter is : 75.962 \n",
      "Letter Grade of James Potter is : C\n",
      "\n",
      "Dylan Rhodes\n",
      "======================================\n",
      "Average marks of Dylan Rhodes is : 75.775 \n",
      "Letter Grade of Dylan Rhodes is : C\n",
      "\n",
      "Jessica Stone\n",
      "======================================\n",
      "Average marks of Jessica Stone is : 48.356 \n",
      "Letter Grade of Jessica Stone is : E\n",
      "\n",
      "Tom Hanks\n",
      "======================================\n",
      "Average marks of Tom Hanks is : 57.26 \n",
      "Letter Grade of Tom Hanks is : E\n",
      "\n"
     ]
    }
   ],
   "source": [
    "# 1. Jack's dictionary \n",
    "jack = { \"name\":\"Jack Frost\", \n",
    "         \"assignment\" : [80, 50, 40, 20], \n",
    "         \"test\" : [75, 75], \n",
    "         \"lab\" : [78.20, 77.20] \n",
    "       } \n",
    "         \n",
    "# 2. James's dictionary \n",
    "james = { \"name\":\"James Potter\", \n",
    "          \"assignment\" : [82, 56, 44, 30], \n",
    "          \"test\" : [80, 80], \n",
    "          \"lab\" : [67.90, 78.72] \n",
    "        } \n",
    "  \n",
    "# 3. Dylan's dictionary \n",
    "dylan = { \"name\" : \"Dylan Rhodes\", \n",
    "          \"assignment\" : [77, 82, 23, 39], \n",
    "          \"test\" : [78, 77], \n",
    "          \"lab\" : [80, 80] \n",
    "        } \n",
    "          \n",
    "# 4. Jessica's dictionary \n",
    "jess = { \"name\" : \"Jessica Stone\", \n",
    "         \"assignment\" : [67, 55, 77, 21], \n",
    "         \"test\" : [40, 50], \n",
    "         \"lab\" : [69, 44.56] \n",
    "       } \n",
    "         \n",
    "# 5. Tom's dictionary \n",
    "tom = { \"name\" : \"Tom Hanks\", \n",
    "        \"assignment\" : [29, 89, 60, 56], \n",
    "        \"test\" : [65, 56], \n",
    "        \"lab\" : [50, 40.6] \n",
    "      } \n",
    "\n",
    "def get_avg(marks):\n",
    "    total_sum = sum(marks)\n",
    "    total_sum = float(total_sum)\n",
    "    return (total_sum/len(marks))\n",
    "\n",
    "def total_avg(students):\n",
    "    assignment = get_avg(students[\"assignment\"])\n",
    "    test = get_avg(students[\"test\"])\n",
    "    lab = get_avg(students[\"lab\"])\n",
    "    return ((assignment*0.1)+(0.7*test)+(0.2*lab))\n",
    "\n",
    "def letter_grade(score):\n",
    "    if score >= 90: \n",
    "        return \"A\"\n",
    "    elif score >= 80:\n",
    "        return \"B\"\n",
    "    elif score >= 70:\n",
    "        return \"C\"\n",
    "    elif score >=60:\n",
    "        return \"D\"\n",
    "    else:\n",
    "        return \"E\"\n",
    "\n",
    "    \n",
    "students = [jack, james, dylan, jess, tom]     \n",
    "for i in students : \n",
    "    print(i[\"name\"]) \n",
    "    print(\"======================================\") \n",
    "    print(\"Average marks of %s is : %s \" %(i[\"name\"], total_avg(i))) \n",
    "                           \n",
    "    print(\"Letter Grade of %s is : %s\" %(i[\"name\"], letter_grade(total_avg(i)))) \n",
    "      \n",
    "    print() "
   ]
  },
  {
   "cell_type": "markdown",
   "metadata": {},
   "source": [
    "# Check order of character in string using OrderedDict( )"
   ]
  },
  {
   "cell_type": "code",
   "execution_count": 9,
   "metadata": {},
   "outputs": [
    {
     "ename": "SyntaxError",
     "evalue": "invalid syntax (<ipython-input-9-36a81b9c0152>, line 28)",
     "output_type": "error",
     "traceback": [
      "\u001b[0;36m  File \u001b[0;32m\"<ipython-input-9-36a81b9c0152>\"\u001b[0;36m, line \u001b[0;32m28\u001b[0m\n\u001b[0;31m    print checkOrder(input,pattern)\u001b[0m\n\u001b[0m                   ^\u001b[0m\n\u001b[0;31mSyntaxError\u001b[0m\u001b[0;31m:\u001b[0m invalid syntax\n"
     ]
    }
   ],
   "source": [
    "from collections import OrderedDict \n",
    "  \n",
    "def checkOrder(input, pattern): \n",
    "      \n",
    "    # create empty OrderedDict \n",
    "    # output will be like {'a': None,'b': None, 'c': None} \n",
    "    dict = OrderedDict.fromkeys(input) \n",
    "  \n",
    "    # traverse generated OrderedDict parallel with \n",
    "    # pattern string to check if order of characters  \n",
    "    # are same or not \n",
    "    ptrlen = 0 \n",
    "    for key,value in dict.iteritems(): \n",
    "        if (key == pattern[ptrlen]): \n",
    "            ptrlen = ptrlen + 1\n",
    "          \n",
    "        # check if we have traverse complete  \n",
    "        # pattern string \n",
    "        if (ptrlen == (len(pattern))): \n",
    "            return 'true'\n",
    "  \n",
    "    # if we come out from for loop that means  \n",
    "    # order was mismatched \n",
    "    return 'false'\n",
    "\n",
    "input = 'engineers rock' \n",
    "pattern = 'egr'\n",
    "print checkOrder(input,pattern) \n"
   ]
  },
  {
   "cell_type": "code",
   "execution_count": 1,
   "metadata": {
    "scrolled": true
   },
   "outputs": [
    {
     "ename": "AttributeError",
     "evalue": "'collections.OrderedDict' object has no attribute 'iteritems'",
     "output_type": "error",
     "traceback": [
      "\u001b[0;31m---------------------------------------------------------------------------\u001b[0m",
      "\u001b[0;31mAttributeError\u001b[0m                            Traceback (most recent call last)",
      "\u001b[0;32m<ipython-input-1-1be1eb97ecea>\u001b[0m in \u001b[0;36m<module>\u001b[0;34m\u001b[0m\n\u001b[1;32m      6\u001b[0m \u001b[0;34m\u001b[0m\u001b[0m\n\u001b[1;32m      7\u001b[0m \u001b[0mptrlen\u001b[0m \u001b[0;34m=\u001b[0m \u001b[0;36m0\u001b[0m\u001b[0;34m\u001b[0m\u001b[0;34m\u001b[0m\u001b[0m\n\u001b[0;32m----> 8\u001b[0;31m \u001b[0;32mfor\u001b[0m \u001b[0mkey\u001b[0m\u001b[0;34m,\u001b[0m\u001b[0mvalue\u001b[0m \u001b[0;32min\u001b[0m \u001b[0mdix\u001b[0m\u001b[0;34m.\u001b[0m\u001b[0miteritems\u001b[0m\u001b[0;34m(\u001b[0m\u001b[0;34m)\u001b[0m\u001b[0;34m:\u001b[0m\u001b[0;34m\u001b[0m\u001b[0;34m\u001b[0m\u001b[0m\n\u001b[0m\u001b[1;32m      9\u001b[0m     \u001b[0;32mif\u001b[0m \u001b[0;34m(\u001b[0m\u001b[0mkey\u001b[0m\u001b[0;34m==\u001b[0m\u001b[0mpattern\u001b[0m\u001b[0;34m[\u001b[0m\u001b[0mptrlen\u001b[0m\u001b[0;34m]\u001b[0m\u001b[0;34m)\u001b[0m\u001b[0;34m:\u001b[0m\u001b[0;34m\u001b[0m\u001b[0;34m\u001b[0m\u001b[0m\n\u001b[1;32m     10\u001b[0m         \u001b[0mptrlen\u001b[0m \u001b[0;34m=\u001b[0m \u001b[0mptrlen\u001b[0m \u001b[0;34m+\u001b[0m \u001b[0;36m1\u001b[0m\u001b[0;34m\u001b[0m\u001b[0;34m\u001b[0m\u001b[0m\n",
      "\u001b[0;31mAttributeError\u001b[0m: 'collections.OrderedDict' object has no attribute 'iteritems'"
     ]
    }
   ],
   "source": [
    "from collections import OrderedDict \n",
    "\n",
    "ip = 'engineers rock' \n",
    "pattern = 'egr'\n",
    "dix = OrderedDict.fromkeys(ip) \n",
    "\n",
    "ptrlen = 0\n",
    "for key,value in dix.iteritems():\n",
    "    if (key==pattern[ptrlen]):\n",
    "        ptrlen = ptrlen + 1\n",
    "        \n",
    "    if (ptrlen== (len(pattern))):\n",
    "        print(\"true\")\n",
    "    else:\n",
    "        print(\"false\")\n",
    "        "
   ]
  },
  {
   "cell_type": "markdown",
   "metadata": {},
   "source": [
    "# Find common elements in three sorted arrays by dictionary intersection"
   ]
  },
  {
   "cell_type": "code",
   "execution_count": 11,
   "metadata": {},
   "outputs": [
    {
     "name": "stdout",
     "output_type": "stream",
     "text": [
      "[50]\n"
     ]
    }
   ],
   "source": [
    "from collections import Counter\n",
    "arr1 = [20, 30, 40, 50]\n",
    "arr2 = [10, 15, 25, 40, 50]\n",
    "arr3 = [1, 2, 3, 4, 50]\n",
    "\n",
    "\n",
    "arr1 = Counter (arr1)\n",
    "arr2 = Counter (arr2)\n",
    "arr3 = Counter (arr3)\n",
    "\n",
    "result_dic = dict(arr1.items() & arr2.items() & arr3.items())\n",
    "common = []\n",
    "\n",
    "for (key,value) in result_dic.items():\n",
    "    for i in range (0,value):\n",
    "        common.append(key)\n",
    "print(common)        "
   ]
  },
  {
   "cell_type": "markdown",
   "metadata": {},
   "source": [
    "# Dictionary and counter in Python to find winner of election"
   ]
  },
  {
   "cell_type": "code",
   "execution_count": 13,
   "metadata": {},
   "outputs": [
    {
     "ename": "AttributeError",
     "evalue": "'Counter' object has no attribute 'iteritems'",
     "output_type": "error",
     "traceback": [
      "\u001b[0;31m---------------------------------------------------------------------------\u001b[0m",
      "\u001b[0;31mAttributeError\u001b[0m                            Traceback (most recent call last)",
      "\u001b[0;32m<ipython-input-13-7c89e4306033>\u001b[0m in \u001b[0;36m<module>\u001b[0;34m\u001b[0m\n\u001b[1;32m      8\u001b[0m     \u001b[0mdix\u001b[0m\u001b[0;34m[\u001b[0m\u001b[0mvalue\u001b[0m\u001b[0;34m]\u001b[0m \u001b[0;34m=\u001b[0m \u001b[0;34m[\u001b[0m\u001b[0;34m]\u001b[0m\u001b[0;34m\u001b[0m\u001b[0;34m\u001b[0m\u001b[0m\n\u001b[1;32m      9\u001b[0m \u001b[0;34m\u001b[0m\u001b[0m\n\u001b[0;32m---> 10\u001b[0;31m \u001b[0;32mfor\u001b[0m \u001b[0;34m(\u001b[0m\u001b[0mkey\u001b[0m\u001b[0;34m,\u001b[0m\u001b[0mvalue\u001b[0m\u001b[0;34m)\u001b[0m \u001b[0;32min\u001b[0m \u001b[0mvotes\u001b[0m\u001b[0;34m.\u001b[0m\u001b[0miteritems\u001b[0m\u001b[0;34m(\u001b[0m\u001b[0;34m)\u001b[0m\u001b[0;34m:\u001b[0m\u001b[0;34m\u001b[0m\u001b[0;34m\u001b[0m\u001b[0m\n\u001b[0m\u001b[1;32m     11\u001b[0m     \u001b[0mdix\u001b[0m\u001b[0;34m[\u001b[0m\u001b[0mvalue\u001b[0m\u001b[0;34m]\u001b[0m\u001b[0;34m.\u001b[0m\u001b[0mappend\u001b[0m\u001b[0;34m(\u001b[0m\u001b[0mkey\u001b[0m\u001b[0;34m)\u001b[0m\u001b[0;34m\u001b[0m\u001b[0;34m\u001b[0m\u001b[0m\n\u001b[1;32m     12\u001b[0m \u001b[0;34m\u001b[0m\u001b[0m\n",
      "\u001b[0;31mAttributeError\u001b[0m: 'Counter' object has no attribute 'iteritems'"
     ]
    }
   ],
   "source": [
    "from collections import Counter\n",
    "\n",
    "votes =['john','johnny','jackie','johnny','john','jackie','jamie','jamie', \n",
    "'john','johnny','jamie','johnny','john'] \n",
    "votes = Counter(votes)\n",
    "dix = {}\n",
    "for value in votes.values():\n",
    "    dix[value] = []\n",
    "    \n",
    "for (key,value) in votes.iteritems():\n",
    "    dix[value].append(key)\n",
    "    \n",
    "maxvote = sorted (dix.key(),reverse = True)"
   ]
  },
  {
   "cell_type": "markdown",
   "metadata": {},
   "source": [
    "# Searchig and sorting "
   ]
  },
  {
   "cell_type": "code",
   "execution_count": null,
   "metadata": {},
   "outputs": [],
   "source": []
  },
  {
   "cell_type": "markdown",
   "metadata": {},
   "source": [
    "# Program for Linear Search"
   ]
  },
  {
   "cell_type": "code",
   "execution_count": 25,
   "metadata": {},
   "outputs": [
    {
     "data": {
      "text/plain": [
       "'no such element'"
      ]
     },
     "execution_count": 25,
     "metadata": {},
     "output_type": "execute_result"
    }
   ],
   "source": [
    "def linearSearch(arr,x):\n",
    "    \n",
    "    for i in range (len(arr)):\n",
    "        if arr[i]==x :\n",
    "            return ('position of the element is at :',i) \n",
    "    return (\"no such element\")\n",
    "        \n",
    "linearSearch([1,2,3,4],100)\n",
    "        \n",
    "        \n"
   ]
  },
  {
   "cell_type": "markdown",
   "metadata": {},
   "source": [
    "# Program for Insertion Sort"
   ]
  },
  {
   "cell_type": "code",
   "execution_count": 38,
   "metadata": {},
   "outputs": [
    {
     "name": "stdout",
     "output_type": "stream",
     "text": [
      "[2, 3, 11, 12, 16]\n"
     ]
    }
   ],
   "source": [
    "arr = [11,12,2,3,16]\n",
    "for i in range(len(arr)):\n",
    "    a = arr[i]\n",
    "    j = i-1\n",
    "    while j>=0 and a<arr[j]:\n",
    "        arr[j+1] = arr[j]\n",
    "        j -= 1\n",
    "        arr[j+1] = a\n",
    "print(arr)\n",
    "        \n",
    " "
   ]
  },
  {
   "cell_type": "code",
   "execution_count": null,
   "metadata": {},
   "outputs": [],
   "source": []
  }
 ],
 "metadata": {
  "kernelspec": {
   "display_name": "Python 3",
   "language": "python",
   "name": "python3"
  },
  "language_info": {
   "codemirror_mode": {
    "name": "ipython",
    "version": 3
   },
   "file_extension": ".py",
   "mimetype": "text/x-python",
   "name": "python",
   "nbconvert_exporter": "python",
   "pygments_lexer": "ipython3",
   "version": "3.7.3"
  }
 },
 "nbformat": 4,
 "nbformat_minor": 2
}
